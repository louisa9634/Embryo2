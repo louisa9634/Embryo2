{
 "cells": [
  {
   "cell_type": "code",
   "execution_count": 1,
   "id": "299680f8-cf34-4bf5-adf8-a9c5741404d9",
   "metadata": {
    "tags": []
   },
   "outputs": [
    {
     "name": "stderr",
     "output_type": "stream",
     "text": [
      "2024-03-18 14:21:27.116821: I tensorflow/core/platform/cpu_feature_guard.cc:142] This TensorFlow binary is optimized with oneAPI Deep Neural Network Library (oneDNN) to use the following CPU instructions in performance-critical operations:  AVX2 FMA\n",
      "To enable them in other operations, rebuild TensorFlow with the appropriate compiler flags.\n"
     ]
    },
    {
     "name": "stdout",
     "output_type": "stream",
     "text": [
      "INFO:tensorflow:Using MirroredStrategy with devices ('/job:localhost/replica:0/task:0/device:GPU:0',)\n"
     ]
    },
    {
     "name": "stderr",
     "output_type": "stream",
     "text": [
      "2024-03-18 14:21:29.194253: I tensorflow/core/common_runtime/gpu/gpu_device.cc:1510] Created device /job:localhost/replica:0/task:0/device:GPU:0 with 38223 MB memory:  -> device: 0, name: NVIDIA A100-PCIE-40GB, pci bus id: 0000:c7:00.0, compute capability: 8.0\n",
      "2024-03-18 14:21:29.208803: I tensorflow/core/common_runtime/gpu/gpu_device.cc:1510] Created device /job:localhost/replica:0/task:0/device:GPU:0 with 38223 MB memory:  -> device: 0, name: NVIDIA A100-PCIE-40GB, pci bus id: 0000:c7:00.0, compute capability: 8.0\n",
      "/mnt/louisayu/nfs_share2/anaconda3/envs/tf/lib/python3.7/site-packages/tensorflow_addons/utils/ensure_tf_install.py:67: UserWarning: Tensorflow Addons supports using Python ops for all Tensorflow versions above or equal to 2.9.0 and strictly below 2.12.0 (nightly versions are not supported). \n",
      " The versions of TensorFlow you are currently using is 2.6.0 and is not supported. \n",
      "Some things might work, some things might not.\n",
      "If you were to encounter a bug, do not file an issue.\n",
      "If you want to make sure you're using a tested and supported configuration, either change the TensorFlow version or the TensorFlow Addons's version. \n",
      "You can find the compatibility matrix in TensorFlow Addon's readme:\n",
      "https://github.com/tensorflow/addons\n",
      "  UserWarning,\n"
     ]
    }
   ],
   "source": [
    "import time\n",
    "#time.sleep(60*60*8)\n",
    "\n",
    "import numpy as np\n",
    "from numpy import asarray\n",
    "import pandas as pd\n",
    "\n",
    "import tensorflow as tf\n",
    "from tensorflow import keras\n",
    "from keras import backend as K\n",
    "from tensorflow.keras.callbacks import ModelCheckpoint, EarlyStopping,ReduceLROnPlateau, TensorBoard\n",
    "from tensorflow.keras.models import Sequential\n",
    "from tensorflow.keras import models, regularizers, layers, optimizers, losses, metrics\n",
    "from tensorflow.keras.layers import Dense, Dropout, Flatten, LeakyReLU, Conv2D, MaxPooling2D \n",
    "from tensorflow.keras.preprocessing.image import load_img, img_to_array, ImageDataGenerator\n",
    "from tensorflow.python.client import device_lib\n",
    "import tensorflow.compat.v1.keras.backend as K\n",
    "import tensorflow.compat.v1 as tf1\n",
    "\n",
    "import cv2\n",
    "import matplotlib.pyplot as plt\n",
    "from PIL import Image\n",
    "import imgaug.augmenters as iaa\n",
    "from skimage import data, color, img_as_ubyte ,io\n",
    "from skimage.feature import canny\n",
    "from skimage.transform import hough_ellipse\n",
    "from skimage.draw import ellipse_perimeter\n",
    "from skimage.color import rgb2gray,rgba2rgb\n",
    "\n",
    "from sklearn.model_selection import train_test_split, KFold\n",
    "from sklearn.metrics import f1_score, accuracy_score, confusion_matrix, precision_score, recall_score, classification_report,roc_auc_score,ConfusionMatrixDisplay\n",
    "from sklearn.utils import class_weight\n",
    "import imutils\n",
    "import os\n",
    "import random\n",
    "from tqdm import tqdm\n",
    "import urllib.request\n",
    "\n",
    "\n",
    "tf.keras.backend.clear_session()\n",
    "os.environ[\"CUDA_VISIBLE_DEVICES\"] = \"2\" \n",
    "config = tf.compat.v1.ConfigProto()\n",
    "config.gpu_options.allow_growth=True\n",
    "sess = tf.compat.v1.Session(config=config)\n",
    "strategy = tf.distribute.MirroredStrategy()\n",
    "\n",
    "from classification_models.tfkeras import Classifiers\n",
    "Resnext, preprocess_input = Classifiers.get('resnext50')\n",
    "from vit_keras import vit\n"
   ]
  },
  {
   "cell_type": "code",
   "execution_count": 204,
   "id": "6af442fb-674b-4b8f-b22a-bc3a0d5c0ae1",
   "metadata": {
    "tags": []
   },
   "outputs": [],
   "source": [
    "def decode(a):\n",
    "    if a =='A' or a =='2':\n",
    "        return int(2)\n",
    "    elif  a=='B' or a == '1':\n",
    "        return int(1)\n",
    "    elif a=='C' or a =='0':\n",
    "        return int(0)\n",
    "    else:\n",
    "        return int(a)\n",
    "\n",
    "    \n",
    "def to_categorical(y, num_classes=None, dtype='float32'):\n",
    "\n",
    " \n",
    "    y = np.array(y, dtype='int')\n",
    "\n",
    "    input_shape = y.shape\n",
    "    if input_shape and input_shape[-1] == 1 and len(input_shape) > 1:\n",
    "        input_shape = tuple(input_shape[:-1])\n",
    "\n",
    "    y = y.ravel()\n",
    "\n",
    "    if not num_classes:\n",
    "        num_classes = np.max(y) + 1\n",
    "    n = y.shape[0]\n",
    "\n",
    "    categorical = np.zeros((n, num_classes), dtype=dtype)\n",
    "\n",
    "    categorical[np.arange(n), y] = 1\n",
    "    output_shape = input_shape + (num_classes,)\n",
    "    categorical = np.reshape(categorical, output_shape)\n",
    "    return categorical\n",
    "\n",
    "def label_smoothing(y, num_classes=3, dtype='float32',factor=0.3):\n",
    "    y = np.array(y, dtype='int')\n",
    "    input_shape = y.shape\n",
    "    if input_shape and input_shape[-1] == 1 and len(input_shape) > 1:\n",
    "         input_shape = tuple(input_shape[:-1])\n",
    "\n",
    "    y = y.ravel()\n",
    "    if not num_classes:\n",
    "         num_classes = np.max(y) + 1\n",
    "    n = y.shape[0]\n",
    "    categorical = np.zeros((n, num_classes), dtype=dtype)\n",
    "\n",
    "    for i in np.arange(n):\n",
    "        if y[i]-1>=0 and y[i]+1<num_classes:\n",
    "            categorical[np.arange(n), y] = 1-factor\n",
    "            categorical[i, y[i]-1] = factor/2\n",
    "            categorical[i, y[i]+1] = factor/2\n",
    "        elif y[i]-1>=0 and y[i]+1>=num_classes:\n",
    "            categorical[np.arange(n), y] = 1-factor\n",
    "            categorical[i, y[i]-1] = factor\n",
    "        else:\n",
    "            categorical[np.arange(n), y] = 1-factor\n",
    "            categorical[i, y[i]+1] = factor\n",
    "    output_shape = input_shape + (num_classes,)\n",
    "    categorical = np.reshape(categorical, output_shape)\n",
    "    return categorical\n",
    "        "
   ]
  },
  {
   "cell_type": "code",
   "execution_count": 518,
   "id": "551a7500-a7d1-4cef-9b02-b3d544d24f2a",
   "metadata": {
    "tags": []
   },
   "outputs": [
    {
     "name": "stderr",
     "output_type": "stream",
     "text": [
      " 97%|██████████████████████████████████████████████████▋ | 463/475 [00:04<00:00, 311.98it/s][ WARN:0@70809.496] global loadsave.cpp:248 findDecoder imread_('/mnt/louisayu/nfs_share2/embryo/preprocess_rec/20200713 LYT.bmp'): can't open/read file: check file path/integrity\n",
      "[ WARN:0@70809.549] global loadsave.cpp:248 findDecoder imread_('/mnt/louisayu/nfs_share2/embryo/preprocess_rec/20210329 AUYK.bmp'): can't open/read file: check file path/integrity\n",
      "[ WARN:0@70809.549] global loadsave.cpp:248 findDecoder imread_('/mnt/louisayu/nfs_share2/embryo/preprocess_rec/20220501 LKM.jpg'): can't open/read file: check file path/integrity\n",
      "100%|████████████████████████████████████████████████████| 475/475 [00:04<00:00, 115.83it/s]\n"
     ]
    },
    {
     "name": "stdout",
     "output_type": "stream",
     "text": [
      "fine: /mnt/louisayu/nfs_share2/embryo/preprocess_rec/20200713 LYT.bmp\n",
      "fine: /mnt/louisayu/nfs_share2/embryo/preprocess_rec/20210329 AUYK.bmp\n",
      "fine: /mnt/louisayu/nfs_share2/embryo/preprocess_rec/20220501 LKM.jpg\n"
     ]
    },
    {
     "name": "stderr",
     "output_type": "stream",
     "text": [
      "100%|██████████████████████████████████████████████████| 2044/2044 [00:15<00:00, 130.11it/s]\n",
      " 22%|███████████▋                                         | 66/300 [00:00<00:01, 179.62it/s]"
     ]
    },
    {
     "name": "stdout",
     "output_type": "stream",
     "text": [
      "test: /mnt/louisayu/nfs_share2/embryo/pubdata/0113_02.png\n",
      "test: /mnt/louisayu/nfs_share2/embryo/pubdata/0173_01.png\n",
      "test: /mnt/louisayu/nfs_share2/embryo/pubdata/0176_03.png\n"
     ]
    },
    {
     "name": "stderr",
     "output_type": "stream",
     "text": [
      " 42%|█████████████████████▋                              | 125/300 [00:00<00:00, 184.29it/s]"
     ]
    },
    {
     "name": "stdout",
     "output_type": "stream",
     "text": [
      "test: /mnt/louisayu/nfs_share2/embryo/pubdata/215_01.png\n",
      "test: /mnt/louisayu/nfs_share2/embryo/pubdata/215_03.png\n",
      "test: /mnt/louisayu/nfs_share2/embryo/pubdata/307_01.png\n"
     ]
    },
    {
     "name": "stderr",
     "output_type": "stream",
     "text": [
      " 69%|███████████████████████████████████▋                | 206/300 [00:01<00:00, 179.72it/s]"
     ]
    },
    {
     "name": "stdout",
     "output_type": "stream",
     "text": [
      "test: /mnt/louisayu/nfs_share2/embryo/pubdata/428_01.png\n"
     ]
    },
    {
     "name": "stderr",
     "output_type": "stream",
     "text": [
      " 75%|███████████████████████████████████████             | 225/300 [00:01<00:00, 173.75it/s]"
     ]
    },
    {
     "name": "stdout",
     "output_type": "stream",
     "text": [
      "test: /mnt/louisayu/nfs_share2/embryo/pubdata/531_02.png\n",
      "test: /mnt/louisayu/nfs_share2/embryo/pubdata/560_02.png\n"
     ]
    },
    {
     "name": "stderr",
     "output_type": "stream",
     "text": [
      " 93%|████████████████████████████████████████████████▌   | 280/300 [00:01<00:00, 170.85it/s]"
     ]
    },
    {
     "name": "stdout",
     "output_type": "stream",
     "text": [
      "test: /mnt/louisayu/nfs_share2/embryo/pubdata/678_01.png\n",
      "test: /mnt/louisayu/nfs_share2/embryo/pubdata/781_05.png\n"
     ]
    },
    {
     "name": "stderr",
     "output_type": "stream",
     "text": [
      "100%|████████████████████████████████████████████████████| 300/300 [00:01<00:00, 177.21it/s]"
     ]
    },
    {
     "name": "stdout",
     "output_type": "stream",
     "text": [
      "test: /mnt/louisayu/nfs_share2/embryo/pubdata/835_05.png\n"
     ]
    },
    {
     "name": "stderr",
     "output_type": "stream",
     "text": [
      "\n"
     ]
    }
   ],
   "source": [
    "        \n",
    "fine= pd.read_csv('/mnt/louisayu/nfs_share2/embryo/code/em_aug/grading/fresh.csv')  \n",
    "train=pd.read_csv(\"/mnt/louisayu/nfs_share2/embryo/code/em_aug/grading/Gardner_train_silver.csv\")\n",
    "test=pd.read_csv(\"/mnt/louisayu/nfs_share2/embryo/code/em_aug/grading/Gardner_test_gold_onlyGardnerScores.csv\")\n",
    "\n",
    "pixel=256\n",
    "channels=3\n",
    "NUM_CLASSES=5\n",
    "\n",
    "fine_image=[]\n",
    "fine_label=[]\n",
    "\n",
    "train_image = []\n",
    "train_label = []\n",
    "\n",
    "test_image=[]\n",
    "test_label=[]\n",
    "testname=[]\n",
    "\n",
    "\n",
    "for i in tqdm(range(fine.shape[0])):\n",
    "    filename= \"/mnt/louisayu/nfs_share2/embryo/preprocess_rec/\"+fine['image'][i]\n",
    "    if not fine['g3'][i]=='ND':\n",
    "        try:\n",
    "            im = cv2.imread(filename)#,cv2.IMREAD_GRAYSCALE)\n",
    "            im = cv2.resize(im,(pixel,pixel))\n",
    "            im = cv2.normalize(im, None, 0, 255, norm_type=cv2.NORM_MINMAX)\n",
    "            img = img_to_array(im)\n",
    "            fine_label.append(decode(fine['g3'][i]))\n",
    "            fine_image.append(img)\n",
    "        except:\n",
    "            print(\"fine:\", filename)\n",
    "        \n",
    "for j in tqdm(range(train.shape[0])):\n",
    "    filename= \"/mnt/louisayu/nfs_share2/embryo/pubdata/\"+train['Image'][j]\n",
    "    if not train['g3'][j]=='ND':\n",
    "        try:  \n",
    "            im = cv2.imread(filename)#,cv2.IMREAD_GRAYSCALE)\n",
    "            im = cv2.resize(im,(pixel,pixel))\n",
    "            im = cv2.normalize(im, None, 0, 255, norm_type=cv2.NORM_MINMAX)\n",
    "            #im = cv2.copyMakeBorder(im, 32, 32, 0, 0, cv2.BORDER_CONSTANT, value=(0,0,0))\n",
    "            img = img_to_array(im)\n",
    "            train_label.append(decode(train['g3'][j]))\n",
    "            train_image.append(img)\n",
    "        except:\n",
    "            print(\"train:\", filename)\n",
    "                \n",
    "for k in tqdm(range(test.shape[0])):\n",
    "    filename= \"/mnt/louisayu/nfs_share2/embryo/pubdata/\"+test['Image'][k]\n",
    "    if not test['g3'][k]=='NA' and not test['g3'][k]=='ND':\n",
    "        try:   \n",
    "            im = cv2.imread(filename)#,cv2.IMREAD_GRAYSCALE)\n",
    "            im = cv2.resize(im,(pixel,pixel))\n",
    "            im = cv2.normalize(im, None, 0, 255, norm_type=cv2.NORM_MINMAX)\n",
    "            #im = cv2.copyMakeBorder(im, 32, 32, 0, 0, cv2.BORDER_CONSTANT, value=(0,0,0))\n",
    "            img = img_to_array(im)\n",
    "            test_label.append(decode(test['g3'][k]))\n",
    "            test_image.append(img)\n",
    "            testname.append(test['Image'][k])\n",
    "        except:\n",
    "            print(\"test:\", filename)"
   ]
  },
  {
   "cell_type": "code",
   "execution_count": 4,
   "id": "3610c7f3-d38a-4ec8-bff7-22a4489ac217",
   "metadata": {
    "tags": []
   },
   "outputs": [
    {
     "name": "stdout",
     "output_type": "stream",
     "text": [
      "before aug, a0: 47\n",
      "before aug, a1: 525\n",
      "before aug, a2: 1081\n"
     ]
    }
   ],
   "source": [
    "a0= [x for x, y in list(enumerate(train_label)) if y ==0]\n",
    "a1= [x for x, y in list(enumerate(train_label)) if y ==1]\n",
    "a2= [x for x, y in list(enumerate(train_label)) if y ==2]\n",
    "\n",
    "print(\"before aug, a0:\",len(a0))\n",
    "print(\"before aug, a1:\",len(a1))\n",
    "print(\"before aug, a2:\",len(a2))    \n",
    "\n"
   ]
  },
  {
   "cell_type": "code",
   "execution_count": 5,
   "id": "098b0802-b698-4504-bccb-e79619e03af5",
   "metadata": {
    "tags": []
   },
   "outputs": [
    {
     "name": "stdout",
     "output_type": "stream",
     "text": [
      "47 525\n",
      "after aug, a0: 141\n",
      "after aug, a1: 1050\n",
      "after aug, a2: 1081\n"
     ]
    }
   ],
   "source": [
    "sometimes = lambda aug: iaa.Sometimes(0.5, aug)  \n",
    "seq= iaa.Sequential([\n",
    "    iaa.SomeOf((1, 3),\n",
    "               [\n",
    "    sometimes(iaa.CoarseSaltAndPepper(0.05, size_percent=(0.01, 0.1))),\n",
    "    iaa.GammaContrast((0.1)),\n",
    "    iaa.MotionBlur(k=15),\n",
    "    sometimes(iaa.Emboss(alpha=(0.0, 1.0), strength=(0.5, 1.5))),\n",
    "    iaa.Affine(translate_percent={\"x\": (-0.2, 0.2), \"y\": (-0.2, 0.2)}), # translate by -20 to +20 percent (per axis)),\n",
    "    iaa.pillike.EnhanceSharpness()],\n",
    "            random_order=True)\n",
    "])\n",
    "seq1=iaa.Sequential([\n",
    "    iaa.SomeOf((2, 3),\n",
    "               [\n",
    "    iaa.GaussianBlur(sigma=(0.0, 3.0)),\n",
    "    iaa.GammaContrast((0.1)),\n",
    "    iaa.Affine(translate_percent={\"x\": (-0.2, 0.2), \"y\": (-0.2, 0.2)}), # translate by -20 to +20 percent (per axis)),\n",
    "    iaa.pillike.EnhanceSharpness()],\n",
    "            random_order=True)\n",
    "])\n",
    "    \n",
    "    \n",
    "img0=[]\n",
    "for i in a0:\n",
    "    img0.append(train_image[i].astype(np.uint8))\n",
    "    \n",
    "img1=[]\n",
    "for i in a1:\n",
    "    img1.append(train_image[i].astype(np.uint8))\n",
    "\n",
    "img0seq = seq(images=img0)\n",
    "train_image.extend(img0seq)\n",
    "img0seq1=  seq1(images=img0) \n",
    "train_image.extend(img0seq1)  \n",
    "for i in range(len(img0seq)):\n",
    "    train_label.append(0)\n",
    "for i in range(len(img0seq1)):\n",
    "    train_label.append(0)\n",
    "    \n",
    "\n",
    "img1seq1 = seq1(images=img1)\n",
    "train_image.extend(img1seq1)\n",
    "for i in range(len(img1seq1)):\n",
    "    train_label.append(1)\n",
    "    \n",
    "        \n",
    "a0= [x for x, y in list(enumerate(train_label)) if y ==0]\n",
    "a1= [x for x, y in list(enumerate(train_label)) if y ==1]\n",
    "a2= [x for x, y in list(enumerate(train_label)) if y ==2]\n",
    "\n",
    "print(\"after aug, a0:\",len(a0))\n",
    "print(\"after aug, a1:\",len(a1))\n",
    "print(\"after aug, a2:\",len(a2))    \n",
    "\n"
   ]
  },
  {
   "cell_type": "code",
   "execution_count": 519,
   "id": "8b4943f5-e9c8-4a89-b117-22de3d1e0c62",
   "metadata": {
    "tags": []
   },
   "outputs": [],
   "source": [
    "xtrain = np.array(train_image,dtype='float32')  \n",
    "ytrain = np.array(train_label)\n",
    "X_train, X_val, Y_train, Y_val = train_test_split(xtrain, ytrain, shuffle=True,random_state=42, test_size=0.15)\n",
    "\n",
    "y_train= to_categorical(Y_train,3)\n",
    "y_val=to_categorical(Y_val,3)\n"
   ]
  },
  {
   "cell_type": "code",
   "execution_count": 162,
   "id": "d4ea38c2-cf4f-4503-959f-06bf0fd0b34b",
   "metadata": {
    "tags": []
   },
   "outputs": [
    {
     "name": "stderr",
     "output_type": "stream",
     "text": [
      "/mnt/louisayu/nfs_share2/anaconda3/envs/tf/lib/python3.7/site-packages/vit_keras/utils.py:83: UserWarning: Resizing position embeddings from 24, 24 to 14, 14\n",
      "  UserWarning,\n"
     ]
    },
    {
     "name": "stdout",
     "output_type": "stream",
     "text": [
      "Model: \"vision_transformer_te\"\n",
      "_________________________________________________________________\n",
      "Layer (type)                 Output Shape              Param #   \n",
      "=================================================================\n",
      "resizing_5 (Resizing)        (None, 224, 224, 3)       0         \n",
      "_________________________________________________________________\n",
      "random_rotation_5 (RandomRot (None, 224, 224, 3)       0         \n",
      "_________________________________________________________________\n",
      "random_zoom_5 (RandomZoom)   (None, 224, 224, 3)       0         \n",
      "_________________________________________________________________\n",
      "random_flip_5 (RandomFlip)   (None, 224, 224, 3)       0         \n",
      "_________________________________________________________________\n",
      "batch_normalization_5 (Batch (None, 224, 224, 3)       12        \n",
      "_________________________________________________________________\n",
      "vit-b16 (Functional)         (None, 1000)              86567656  \n",
      "_________________________________________________________________\n",
      "dense_5 (Dense)              (None, 3)                 3003      \n",
      "=================================================================\n",
      "Total params: 86,570,671\n",
      "Trainable params: 86,570,665\n",
      "Non-trainable params: 6\n",
      "_________________________________________________________________\n",
      "None\n",
      "{0: 5.190860215053763, 1: 0.7215994020926756, 2: 0.7034608378870674}\n",
      "Epoch 1/80\n",
      "61/61 - 25s - loss: 2.1931 - accuracy: 0.4816 - auc_5: 0.6772 - val_loss: 1.9888 - val_accuracy: 0.4252 - val_auc_5: 0.6170\n",
      "Epoch 2/80\n",
      "61/61 - 12s - loss: 1.5118 - accuracy: 0.5878 - auc_5: 0.7695 - val_loss: 1.5951 - val_accuracy: 0.4633 - val_auc_5: 0.7133\n",
      "Epoch 3/80\n",
      "61/61 - 12s - loss: 1.4207 - accuracy: 0.5893 - auc_5: 0.7911 - val_loss: 1.1768 - val_accuracy: 0.6540 - val_auc_5: 0.8546\n",
      "Epoch 4/80\n",
      "61/61 - 12s - loss: 1.1678 - accuracy: 0.6323 - auc_5: 0.8297 - val_loss: 1.1646 - val_accuracy: 0.6217 - val_auc_5: 0.8448\n",
      "Epoch 5/80\n",
      "61/61 - 12s - loss: 1.1822 - accuracy: 0.6484 - auc_5: 0.8332 - val_loss: 1.4868 - val_accuracy: 0.6129 - val_auc_5: 0.7926\n",
      "Epoch 6/80\n",
      "61/61 - 12s - loss: 1.1441 - accuracy: 0.6370 - auc_5: 0.8371 - val_loss: 1.2965 - val_accuracy: 0.6276 - val_auc_5: 0.8582\n",
      "Epoch 7/80\n",
      "61/61 - 12s - loss: 1.0239 - accuracy: 0.6660 - auc_5: 0.8551 - val_loss: 1.1059 - val_accuracy: 0.6686 - val_auc_5: 0.8760\n",
      "Epoch 8/80\n",
      "61/61 - 12s - loss: 0.9428 - accuracy: 0.7115 - auc_5: 0.8812 - val_loss: 1.2249 - val_accuracy: 0.6393 - val_auc_5: 0.8785\n",
      "Epoch 9/80\n",
      "61/61 - 12s - loss: 0.8511 - accuracy: 0.6945 - auc_5: 0.8799 - val_loss: 0.8692 - val_accuracy: 0.7507 - val_auc_5: 0.8880\n",
      "Epoch 10/80\n",
      "61/61 - 12s - loss: 0.7939 - accuracy: 0.7349 - auc_5: 0.8942 - val_loss: 1.1212 - val_accuracy: 0.6891 - val_auc_5: 0.8649\n",
      "Epoch 11/80\n",
      "61/61 - 12s - loss: 0.9663 - accuracy: 0.6996 - auc_5: 0.8739 - val_loss: 0.7299 - val_accuracy: 0.7977 - val_auc_5: 0.9140\n",
      "Epoch 12/80\n",
      "61/61 - 12s - loss: 0.8265 - accuracy: 0.7307 - auc_5: 0.8971 - val_loss: 0.7248 - val_accuracy: 0.8006 - val_auc_5: 0.9092\n",
      "Epoch 13/80\n",
      "61/61 - 12s - loss: 0.8175 - accuracy: 0.7245 - auc_5: 0.8992 - val_loss: 0.8694 - val_accuracy: 0.7419 - val_auc_5: 0.8803\n",
      "Epoch 14/80\n",
      "61/61 - 12s - loss: 0.7036 - accuracy: 0.7509 - auc_5: 0.9118 - val_loss: 0.9426 - val_accuracy: 0.7889 - val_auc_5: 0.8846\n",
      "Epoch 15/80\n",
      "61/61 - 12s - loss: 0.7474 - accuracy: 0.7566 - auc_5: 0.9092 - val_loss: 1.1023 - val_accuracy: 0.6657 - val_auc_5: 0.9050\n",
      "Epoch 16/80\n",
      "61/61 - 12s - loss: 0.7087 - accuracy: 0.7628 - auc_5: 0.9162 - val_loss: 0.9441 - val_accuracy: 0.7419 - val_auc_5: 0.9088\n",
      "Epoch 17/80\n",
      "61/61 - 12s - loss: 0.6185 - accuracy: 0.7835 - auc_5: 0.9308 - val_loss: 1.0734 - val_accuracy: 0.7185 - val_auc_5: 0.8904\n",
      "Epoch 18/80\n",
      "61/61 - 12s - loss: 0.7266 - accuracy: 0.7633 - auc_5: 0.9194 - val_loss: 0.8325 - val_accuracy: 0.7683 - val_auc_5: 0.9202\n",
      "Epoch 19/80\n",
      "61/61 - 12s - loss: 0.6416 - accuracy: 0.7861 - auc_5: 0.9292 - val_loss: 0.8769 - val_accuracy: 0.7507 - val_auc_5: 0.9252\n",
      "\n",
      "Epoch 00019: ReduceLROnPlateau reducing learning rate to 2.0999999469495376e-05.\n",
      "Epoch 20/80\n",
      "61/61 - 12s - loss: 0.5935 - accuracy: 0.7923 - auc_5: 0.9389 - val_loss: 0.7366 - val_accuracy: 0.7918 - val_auc_5: 0.9159\n",
      "Epoch 21/80\n",
      "61/61 - 12s - loss: 0.5136 - accuracy: 0.8193 - auc_5: 0.9448 - val_loss: 0.7128 - val_accuracy: 0.8211 - val_auc_5: 0.9126\n",
      "Epoch 22/80\n",
      "61/61 - 12s - loss: 0.5745 - accuracy: 0.8136 - auc_5: 0.9436 - val_loss: 0.7725 - val_accuracy: 0.7859 - val_auc_5: 0.9096\n",
      "Epoch 23/80\n",
      "61/61 - 12s - loss: 0.5007 - accuracy: 0.8250 - auc_5: 0.9508 - val_loss: 0.7067 - val_accuracy: 0.8416 - val_auc_5: 0.9220\n",
      "Epoch 24/80\n",
      "61/61 - 12s - loss: 0.4978 - accuracy: 0.8281 - auc_5: 0.9515 - val_loss: 0.8923 - val_accuracy: 0.7478 - val_auc_5: 0.9042\n",
      "Epoch 25/80\n",
      "61/61 - 12s - loss: 0.4758 - accuracy: 0.8244 - auc_5: 0.9537 - val_loss: 0.7522 - val_accuracy: 0.7830 - val_auc_5: 0.9189\n",
      "Epoch 26/80\n",
      "61/61 - 12s - loss: 0.5025 - accuracy: 0.8317 - auc_5: 0.9522 - val_loss: 0.7455 - val_accuracy: 0.8006 - val_auc_5: 0.9151\n",
      "Epoch 27/80\n",
      "61/61 - 12s - loss: 0.4564 - accuracy: 0.8431 - auc_5: 0.9557 - val_loss: 0.6829 - val_accuracy: 0.8240 - val_auc_5: 0.9210\n",
      "Epoch 28/80\n",
      "61/61 - 12s - loss: 0.4879 - accuracy: 0.8374 - auc_5: 0.9563 - val_loss: 0.6644 - val_accuracy: 0.8299 - val_auc_5: 0.9184\n",
      "Epoch 29/80\n",
      "61/61 - 12s - loss: 0.4452 - accuracy: 0.8462 - auc_5: 0.9646 - val_loss: 0.7385 - val_accuracy: 0.8299 - val_auc_5: 0.9214\n",
      "Epoch 30/80\n",
      "61/61 - 12s - loss: 0.3907 - accuracy: 0.8617 - auc_5: 0.9680 - val_loss: 0.8715 - val_accuracy: 0.7625 - val_auc_5: 0.9170\n",
      "Epoch 31/80\n",
      "61/61 - 12s - loss: 0.3577 - accuracy: 0.8695 - auc_5: 0.9704 - val_loss: 0.7210 - val_accuracy: 0.8270 - val_auc_5: 0.9262\n",
      "Epoch 32/80\n",
      "61/61 - 12s - loss: 0.3342 - accuracy: 0.8783 - auc_5: 0.9748 - val_loss: 0.6677 - val_accuracy: 0.8446 - val_auc_5: 0.9284\n",
      "Epoch 33/80\n",
      "61/61 - 12s - loss: 0.4381 - accuracy: 0.8550 - auc_5: 0.9634 - val_loss: 0.9571 - val_accuracy: 0.7713 - val_auc_5: 0.9089\n",
      "Epoch 34/80\n",
      "61/61 - 12s - loss: 0.3658 - accuracy: 0.8757 - auc_5: 0.9733 - val_loss: 0.7812 - val_accuracy: 0.7977 - val_auc_5: 0.9319\n",
      "Epoch 35/80\n",
      "61/61 - 12s - loss: 0.3642 - accuracy: 0.8762 - auc_5: 0.9743 - val_loss: 0.6768 - val_accuracy: 0.8358 - val_auc_5: 0.9269\n",
      "\n",
      "Epoch 00035: ReduceLROnPlateau reducing learning rate to 1.469999988330528e-05.\n",
      "Epoch 36/80\n",
      "61/61 - 12s - loss: 0.3374 - accuracy: 0.8887 - auc_5: 0.9758 - val_loss: 0.7202 - val_accuracy: 0.8211 - val_auc_5: 0.9250\n",
      "Epoch 37/80\n",
      "61/61 - 12s - loss: 0.2624 - accuracy: 0.9177 - auc_5: 0.9836 - val_loss: 0.7645 - val_accuracy: 0.8211 - val_auc_5: 0.9231\n",
      "Epoch 38/80\n",
      "61/61 - 12s - loss: 0.2829 - accuracy: 0.9068 - auc_5: 0.9843 - val_loss: 0.7798 - val_accuracy: 0.8035 - val_auc_5: 0.9168\n",
      "Epoch 39/80\n",
      "61/61 - 12s - loss: 0.2993 - accuracy: 0.9016 - auc_5: 0.9831 - val_loss: 0.8179 - val_accuracy: 0.7977 - val_auc_5: 0.9151\n",
      "Epoch 40/80\n",
      "61/61 - 12s - loss: 0.3182 - accuracy: 0.9011 - auc_5: 0.9829 - val_loss: 0.8540 - val_accuracy: 0.8240 - val_auc_5: 0.9154\n",
      "Epoch 41/80\n",
      "61/61 - 12s - loss: 0.2428 - accuracy: 0.9213 - auc_5: 0.9869 - val_loss: 0.8122 - val_accuracy: 0.8152 - val_auc_5: 0.9118\n",
      "Epoch 42/80\n",
      "61/61 - 12s - loss: 0.2578 - accuracy: 0.9161 - auc_5: 0.9852 - val_loss: 0.8774 - val_accuracy: 0.8094 - val_auc_5: 0.9104\n",
      "\n",
      "Epoch 00042: ReduceLROnPlateau reducing learning rate to 1.0290000045642955e-05.\n",
      "Epoch 00042: early stopping\n"
     ]
    }
   ],
   "source": [
    "def ordinal_loss(y_true,y_pred):\n",
    "    #y_true = tf.cast(y_true, dtype=tf.int256)\n",
    "    weights= K.cast(K.abs(K.argmax(y_true,axis=1)-K.argmax(y_pred,axis=1)),dtype='float32')\n",
    "    return (1+weights)*tf.keras.losses.categorical_crossentropy(y_true,y_pred)#\n",
    "\n",
    "# with strategy.scope():\n",
    "vit_model = vit.vit_b16(\n",
    "        image_size = 224,\n",
    "        activation = 'linear',\n",
    "        pretrained = True,\n",
    "        include_top = True,\n",
    "        pretrained_top =True,)\n",
    "        #classes = 3)\n",
    "\n",
    "model = Sequential([\n",
    "        layers.Input(shape=(pixel,pixel,channels),name='main_input'),\n",
    "        layers.Resizing(224, 224),\n",
    "        layers.RandomRotation(factor=(-0.2, 0.3)),\n",
    "        layers.RandomZoom(height_factor=-0.1, width_factor=-0.1),\n",
    "        layers.RandomFlip(mode=\"horizontal_and_vertical\"),\n",
    "        layers.BatchNormalization(),\n",
    "        vit_model,\n",
    "        layers.Dense(3,activation='softmax'),\n",
    "    ],\n",
    "    name = 'vision_transformer_te')\n",
    "\n",
    "opt = tf.keras.optimizers.Adam(learning_rate=0.00003)\n",
    "model.compile(optimizer=opt,  loss=ordinal_loss, metrics =['accuracy', tf.keras.metrics.AUC(multi_label = True)]) \n",
    "\n",
    "print(model.summary())\n",
    "\n",
    "\n",
    "def get_callbacks():\n",
    "    checkpoint_filepath = '/mnt/louisayu/nfs_share2/embryo/model_weights1/g3/ep{epoch:03d}_acc{val_accuracy:.4f}_val_loss{val_loss:.4f}.h5'\n",
    "    return [\n",
    "            EarlyStopping(monitor=\"val_accuracy\", mode=\"max\", patience = 10, verbose=1),\n",
    "            \n",
    "            ReduceLROnPlateau(monitor=\"val_loss\", mode=\"min\", factor=0.7, min_lr=1e-6, patience=7, verbose=1),\n",
    "            \n",
    "            ModelCheckpoint(checkpoint_filepath, monitor=\"val_accuracy\", mode=\"max\", save_weights_only=True) # save_best_only=True)\n",
    "           ]\n",
    "\n",
    "from sklearn.utils import class_weight\n",
    "y_integers = np.argmax(y_train, axis=1)\n",
    "class_weights = class_weight.compute_class_weight(class_weight='balanced', classes=np.unique(y_integers), y=y_integers)\n",
    "d_class_weights = dict(enumerate(class_weights))\n",
    "print(d_class_weights)\n",
    "\n",
    "history=model.fit(X_train, y_train, batch_size= 32, validation_data=(X_val, y_val), epochs=80, verbose=2, shuffle=True,callbacks=get_callbacks(),class_weight=d_class_weights)"
   ]
  },
  {
   "cell_type": "code",
   "execution_count": 163,
   "id": "745aacbd-da9c-4fd3-af10-e2b0c6de3e2d",
   "metadata": {
    "tags": []
   },
   "outputs": [
    {
     "data": {
      "image/png": "[encoded data removed]",
      "text/plain": [
       "<Figure size 640x480 with 1 Axes>"
      ]
     },
     "metadata": {},
     "output_type": "display_data"
    },
    {
     "data": {
      "image/png": "[encoded data removed]",
      "text/plain": [
       "<Figure size 640x480 with 1 Axes>"
      ]
     },
     "metadata": {},
     "output_type": "display_data"
    }
   ],
   "source": [
    "#Summarize history for accuracy\n",
    "plt.plot(history.history['accuracy'])\n",
    "plt.plot(history.history['val_accuracy'])\n",
    "plt.title('model accuracy')\n",
    "plt.ylabel('accuracy')\n",
    "plt.xlabel('epoch')\n",
    "plt.legend(['train', 'test'], loc='upper left')\n",
    "plt.show()\n",
    "\n",
    "#Summarize history for loss\n",
    "plt.plot(history.history['loss'])\n",
    "plt.plot(history.history['val_loss'])\n",
    "plt.title('model loss')\n",
    "plt.ylabel('loss')\n",
    "plt.xlabel('epoch')\n",
    "plt.legend(['train', 'test'], loc='upper left')\n",
    "plt.show()\n",
    "    "
   ]
  },
  {
   "cell_type": "code",
   "execution_count": 616,
   "id": "10398de7-76d4-4cb5-9628-01bfa865772b",
   "metadata": {
    "tags": []
   },
   "outputs": [
    {
     "name": "stdout",
     "output_type": "stream",
     "text": [
      "roc_auc_score: 0.8388513278243996\n",
      "f1_score: 0.7060616093805171\n",
      "accuracy_score: 0.7136752136752137\n",
      "              precision    recall  f1-score   support\n",
      "\n",
      "           0       0.71      0.40      0.51        30\n",
      "           1       0.61      0.62      0.61        82\n",
      "           2       0.78      0.85      0.82       122\n",
      "\n",
      "    accuracy                           0.71       234\n",
      "   macro avg       0.70      0.62      0.65       234\n",
      "weighted avg       0.71      0.71      0.71       234\n",
      "\n"
     ]
    },
    {
     "data": {
      "image/png": "[encoded data removed]",
      "text/plain": [
       "<Figure size 640x480 with 2 Axes>"
      ]
     },
     "metadata": {},
     "output_type": "display_data"
    }
   ],
   "source": [
    "\n",
    "x_test = np.reshape(test_image,(len(test_label),pixel,pixel,channels))\n",
    "y_test = np.reshape(test_label,(len(test_label),1))\n",
    "\n",
    "y_prediction=model.predict(x_test)\n",
    "score = roc_auc_score(y_test, y_prediction, multi_class='ovr')\n",
    "print(\"roc_auc_score:\", score)\n",
    "y_prediction = np.argmax(y_prediction, axis=1)\n",
    "print(\"f1_score:\", f1_score(y_test, y_prediction, average='weighted'))   \n",
    "ac=accuracy_score(y_test, y_prediction)\n",
    "print(\"accuracy_score:\", ac)\n",
    "print(classification_report(y_test, y_prediction))\n",
    "\n",
    "model.save('/mnt/louisayu/nfs_share2/embryo/model_weights1/g3/model/'+str(ac).replace('0.','')+'.h5')\n",
    "cm=confusion_matrix(y_test, y_prediction)\n",
    "disp = ConfusionMatrixDisplay(confusion_matrix=cm)\n",
    "disp.plot()\n",
    "plt.show()\n",
    "\n",
    "    "
   ]
  },
  {
   "cell_type": "code",
   "execution_count": 586,
   "id": "281d7bb7-0633-4134-8783-61697c9383dd",
   "metadata": {
    "tags": []
   },
   "outputs": [
    {
     "name": "stdout",
     "output_type": "stream",
     "text": [
      "{0: 9.694835680751174, 1: 0.8680117696511139, 2: 0.5731334998612267}\n",
      "Epoch 1/50\n",
      "29/29 - 23s - loss: 1.4499 - accuracy: 0.6632 - auc: 0.7583 - val_loss: 0.7793 - val_accuracy: 0.8065 - val_auc: 0.8624\n",
      "Epoch 2/50\n",
      "29/29 - 9s - loss: 1.0838 - accuracy: 0.6968 - auc: 0.7890 - val_loss: 0.8034 - val_accuracy: 0.7782 - val_auc: 0.8609\n",
      "Epoch 3/50\n",
      "29/29 - 10s - loss: 0.9959 - accuracy: 0.7111 - auc: 0.8001 - val_loss: 0.7463 - val_accuracy: 0.7984 - val_auc: 0.8654\n",
      "Epoch 4/50\n",
      "29/29 - 10s - loss: 0.9654 - accuracy: 0.7331 - auc: 0.8126 - val_loss: 0.7513 - val_accuracy: 0.7863 - val_auc: 0.8670\n",
      "Epoch 5/50\n",
      "29/29 - 9s - loss: 0.9154 - accuracy: 0.7303 - auc: 0.8268 - val_loss: 0.8686 - val_accuracy: 0.7782 - val_auc: 0.8615\n",
      "Epoch 6/50\n",
      "29/29 - 10s - loss: 0.8620 - accuracy: 0.7413 - auc: 0.8255 - val_loss: 0.7314 - val_accuracy: 0.7984 - val_auc: 0.8744\n",
      "Epoch 7/50\n",
      "29/29 - 10s - loss: 0.7959 - accuracy: 0.7567 - auc: 0.8354 - val_loss: 0.7340 - val_accuracy: 0.7903 - val_auc: 0.8772\n",
      "Restoring model weights from the end of the best epoch.\n",
      "Epoch 00007: early stopping\n"
     ]
    }
   ],
   "source": [
    "\n",
    "ft_image=np.array((train_image+fine_image),dtype='float32')\n",
    "ft_label=np.concatenate((to_categorical(train_label,3),label_smoothing(fine_label,3)),axis=0)\n",
    "\n",
    "index = [i for i in range(len(ft_label))]\n",
    "np.random.seed(27)\n",
    "np.random.shuffle(index)\n",
    "x_fine = ft_image[index]\n",
    "y_fine = ft_label[index]\n",
    "X_fine= np.reshape(x_fine,(len(x_fine),pixel,pixel,channels))\n",
    "\n",
    "ftmodel=tf.keras.models.load_model(\"/mnt/louisayu/nfs_share2/embryo/model_weights1/g3/model/7136752136752137.h5\",compile=False)\n",
    "\n",
    "opt = tf.keras.optimizers.Adam(learning_rate=0.00001)\n",
    "ftmodel.compile(optimizer=opt,  loss= ordinal_loss, metrics =['accuracy', tf.keras.metrics.AUC(multi_label = True, name=\"auc\")]) \n",
    "\n",
    "\n",
    "\n",
    "def get_callbacks():\n",
    "    checkpoint_filepath = '/mnt/louisayu/nfs_share2/embryo/model_weights1/g3/ep{epoch:03d}_acc{accuracy:.4f}_val_loss{loss:.4f}.h5'\n",
    "    return [\n",
    "            EarlyStopping(monitor=\"val_accuracy\", mode=\"max\", patience = 6, verbose=1, restore_best_weights=True),\n",
    "            \n",
    "            ReduceLROnPlateau(monitor=\"val_loss\", mode=\"min\", factor=0.7, min_lr=1e-6, patience=3, verbose=1),\n",
    "            \n",
    "            ModelCheckpoint(checkpoint_filepath, monitor=\"val_accuracy\", mode=\"max\", save_weights_only=True) # save_best_only=True)\n",
    "           ]\n",
    "\n",
    "y_integers = np.argmax(y_fine, axis=1)\n",
    "class_weights = class_weight.compute_class_weight(class_weight='balanced', classes=np.unique(y_integers), y=y_integers)\n",
    "d_class_weights = dict(enumerate(class_weights))\n",
    "print(d_class_weights)\n",
    "\n",
    "history=ftmodel.fit(X_fine, y_fine, batch_size=64, epochs=50, verbose=2, shuffle=True,callbacks=get_callbacks(),class_weight=d_class_weights, validation_split=0.12)"
   ]
  },
  {
   "cell_type": "code",
   "execution_count": 612,
   "id": "f15900cd-e9ef-4bbf-8a6f-09e9c6dfd348",
   "metadata": {
    "tags": []
   },
   "outputs": [
    {
     "name": "stdout",
     "output_type": "stream",
     "text": [
      "roc_auc_score: 0.8428917878685341\n",
      "f1_score: 0.7259807483670307\n",
      "accuracy_score: 0.7307692307692307\n",
      "              precision    recall  f1-score   support\n",
      "\n",
      "           0       0.67      0.60      0.63        30\n",
      "           1       0.65      0.59      0.62        82\n",
      "           2       0.79      0.86      0.82       122\n",
      "\n",
      "    accuracy                           0.73       234\n",
      "   macro avg       0.70      0.68      0.69       234\n",
      "weighted avg       0.72      0.73      0.73       234\n",
      "\n"
     ]
    },
    {
     "data": {
      "image/png": "[encoded data removed]",
      "text/plain": [
       "<Figure size 640x480 with 2 Axes>"
      ]
     },
     "metadata": {},
     "output_type": "display_data"
    }
   ],
   "source": [
    "\n",
    "x_test = np.reshape(test_image,(len(test_label),pixel,pixel,channels))\n",
    "y_test = np.reshape(test_label,(len(test_label),1))\n",
    "\n",
    "\n",
    "y_prediction=ftmodel.predict(x_test)\n",
    "score = roc_auc_score(y_test, y_prediction, multi_class='ovr')\n",
    "print(\"roc_auc_score:\", score)\n",
    "y_prediction = np.argmax(y_prediction, axis=1)\n",
    "print(\"f1_score:\", f1_score(y_test, y_prediction, average='weighted'))   \n",
    "ac=accuracy_score(y_test, y_prediction)\n",
    "print(\"accuracy_score:\", ac)\n",
    "print(classification_report(y_test, y_prediction))\n",
    "\n",
    "\n",
    "ftmodel.save('/mnt/louisayu/nfs_share2/embryo/model_weights1/g3/model/ft_'+str(ac).replace('0.','')+'.h5')\n",
    "cm=confusion_matrix(y_test, y_prediction)\n",
    "disp = ConfusionMatrixDisplay(confusion_matrix=cm)\n",
    "disp.plot()\n",
    "plt.show()\n"
   ]
  },
  {
   "cell_type": "code",
   "execution_count": 610,
   "id": "18968602-7479-4fb8-913d-36f2c773f886",
   "metadata": {
    "tags": []
   },
   "outputs": [
    {
     "name": "stdout",
     "output_type": "stream",
     "text": [
      "{0: 9.694835680751174, 1: 0.8680117696511139, 2: 0.5731334998612267}\n",
      "Epoch 1/50\n",
      "29/29 - 23s - loss: 1.4041 - accuracy: 0.6659 - auc: 0.7507 - val_loss: 0.7305 - val_accuracy: 0.8145 - val_auc: 0.8747\n",
      "Epoch 2/50\n",
      "29/29 - 9s - loss: 1.0210 - accuracy: 0.7034 - auc: 0.7963 - val_loss: 0.7583 - val_accuracy: 0.8024 - val_auc: 0.8650\n",
      "Epoch 3/50\n",
      "29/29 - 10s - loss: 1.0182 - accuracy: 0.7193 - auc: 0.7938 - val_loss: 0.7774 - val_accuracy: 0.7863 - val_auc: 0.8597\n",
      "Epoch 4/50\n",
      "29/29 - 10s - loss: 0.8878 - accuracy: 0.7435 - auc: 0.8149 - val_loss: 0.7409 - val_accuracy: 0.8065 - val_auc: 0.8709\n",
      "\n",
      "Epoch 00004: ReduceLROnPlateau reducing learning rate to 6.9999998231651255e-06.\n",
      "Epoch 5/50\n",
      "29/29 - 9s - loss: 0.8670 - accuracy: 0.7474 - auc: 0.8289 - val_loss: 0.7723 - val_accuracy: 0.7863 - val_auc: 0.8679\n",
      "Epoch 6/50\n",
      "29/29 - 10s - loss: 0.8752 - accuracy: 0.7353 - auc: 0.8194 - val_loss: 0.7572 - val_accuracy: 0.7863 - val_auc: 0.8723\n",
      "Epoch 7/50\n",
      "29/29 - 10s - loss: 0.8917 - accuracy: 0.7331 - auc: 0.8244 - val_loss: 0.7166 - val_accuracy: 0.8024 - val_auc: 0.8812\n",
      "Restoring model weights from the end of the best epoch.\n",
      "Epoch 00007: early stopping\n"
     ]
    }
   ],
   "source": [
    "\n",
    "combine_image=np.array((train_image+fine_image),dtype='float32')\n",
    "combine_label=np.concatenate((to_categorical(train_label,3),label_smoothing(fine_label,3)),axis=0)\n",
    "\n",
    "index = [i for i in range(len(combine_label))]\n",
    "np.random.seed(27)\n",
    "np.random.shuffle(index)\n",
    "x_fine = combine_image[index]\n",
    "y_fine = combine_label[index]\n",
    "X_fine= np.reshape(x_fine,(len(x_fine),pixel,pixel,channels))\n",
    "\n",
    "combine_model=tf.keras.models.load_model(\"/mnt/louisayu/nfs_share2/embryo/model_weights1/g3/model/7136752136752137.h5\",compile=False)\n",
    "\n",
    "opt = tf.keras.optimizers.Adam(learning_rate=0.00001)\n",
    "combine_model.compile(optimizer=opt,  loss= ordinal_loss, metrics =['accuracy', tf.keras.metrics.AUC(multi_label = True, name=\"auc\")]) \n",
    "\n",
    "\n",
    "\n",
    "def get_callbacks():\n",
    "    checkpoint_filepath = '/mnt/louisayu/nfs_share2/embryo/model_weights1/g3/ep{epoch:03d}_acc{accuracy:.4f}_val_loss{loss:.4f}.h5'\n",
    "    return [\n",
    "            EarlyStopping(monitor=\"val_accuracy\", mode=\"max\", patience = 6, verbose=1, restore_best_weights=True),\n",
    "            \n",
    "            ReduceLROnPlateau(monitor=\"val_loss\", mode=\"min\", factor=0.7, min_lr=1e-6, patience=3, verbose=1),\n",
    "            \n",
    "            ModelCheckpoint(checkpoint_filepath, monitor=\"val_accuracy\", mode=\"max\", save_weights_only=True) # save_best_only=True)\n",
    "           ]\n",
    "\n",
    "y_integers = np.argmax(y_fine, axis=1)\n",
    "class_weights = class_weight.compute_class_weight(class_weight='balanced', classes=np.unique(y_integers), y=y_integers)\n",
    "d_class_weights = dict(enumerate(class_weights))\n",
    "print(d_class_weights)\n",
    "\n",
    "history=combine_model.fit(X_fine, y_fine, batch_size=64, epochs=50, verbose=2, shuffle=True,callbacks=get_callbacks(),class_weight=d_class_weights, validation_split=0.12)"
   ]
  },
  {
   "cell_type": "code",
   "execution_count": 611,
   "id": "337f48d0-06e8-488d-bb81-d25a58af30cf",
   "metadata": {
    "tags": []
   },
   "outputs": [
    {
     "name": "stdout",
     "output_type": "stream",
     "text": [
      "roc_auc_score: 0.8418794583089005\n",
      "f1_score: 0.7021743349884433\n",
      "accuracy_score: 0.7094017094017094\n",
      "              precision    recall  f1-score   support\n",
      "\n",
      "           0       0.71      0.33      0.45        30\n",
      "           1       0.59      0.68      0.63        82\n",
      "           2       0.80      0.82      0.81       122\n",
      "\n",
      "    accuracy                           0.71       234\n",
      "   macro avg       0.70      0.61      0.63       234\n",
      "weighted avg       0.72      0.71      0.70       234\n",
      "\n"
     ]
    },
    {
     "data": {
      "image/png": "[encoded data removed]",
      "text/plain": [
       "<Figure size 640x480 with 2 Axes>"
      ]
     },
     "metadata": {},
     "output_type": "display_data"
    }
   ],
   "source": [
    "\n",
    "x_test = np.reshape(test_image,(len(test_label),pixel,pixel,channels))\n",
    "y_test = np.reshape(test_label,(len(test_label),1))\n",
    "\n",
    "\n",
    "y_prediction=combine_model.predict(x_test)\n",
    "score = roc_auc_score(y_test, y_prediction, multi_class='ovr')\n",
    "print(\"roc_auc_score:\", score)\n",
    "y_prediction = np.argmax(y_prediction, axis=1)\n",
    "print(\"f1_score:\", f1_score(y_test, y_prediction, average='weighted'))   \n",
    "ac=accuracy_score(y_test, y_prediction)\n",
    "print(\"accuracy_score:\", ac)\n",
    "print(classification_report(y_test, y_prediction))\n",
    "\n",
    "\n",
    "combine_model.save('/mnt/louisayu/nfs_share2/embryo/model_weights1/g3/model/combine_'+str(ac).replace('0.','')+'.h5')\n",
    "cm=confusion_matrix(y_test, y_prediction)\n",
    "disp = ConfusionMatrixDisplay(confusion_matrix=cm)\n",
    "disp.plot()\n",
    "plt.show()\n"
   ]
  },
  {
   "cell_type": "code",
   "execution_count": null,
   "id": "5949caca-838e-4dc7-af40-232f06fe9fd8",
   "metadata": {
    "tags": []
   },
   "outputs": [],
   "source": [
    "for k in range(test.shape[0]):\n",
    "    filename= \"/mnt/louisayu/nfs_share2/embryo/pubdata/\"+test['Image'][k]\n",
    "      \n",
    "    im = cv2.imread(filename)#,cv2.IMREAD_GRAYSCALE)\n",
    "    im = cv2.resize(im,(pixel,pixel))\n",
    "    im = cv2.normalize(im, None, 0, 255, norm_type=cv2.NORM_MINMAX)\n",
    "    #im = cv2.copyMakeBorder(im, 32, 32, 0, 0, cv2.BORDER_CONSTANT, value=(0,0,0))\n",
    "    img = img_to_array(im)\n",
    "    print(np.argmax(model.predict(np.reshape(img,(1,pixel,pixel,channels)))))\n"
   ]
  },
  {
   "cell_type": "code",
   "execution_count": null,
   "id": "3fc58ac3-73d6-4fce-b088-f2a27ad3ff60",
   "metadata": {
    "tags": []
   },
   "outputs": [],
   "source": [
    "for k in range(test.shape[0]):\n",
    "    filename= \"/mnt/louisayu/nfs_share2/embryo/pubdata/\"+test['Image'][k]\n",
    "      \n",
    "    im = cv2.imread(filename)#,cv2.IMREAD_GRAYSCALE)\n",
    "    im = cv2.resize(im,(pixel,pixel))\n",
    "    im = cv2.normalize(im, None, 0, 255, norm_type=cv2.NORM_MINMAX)\n",
    "    #im = cv2.copyMakeBorder(im, 32, 32, 0, 0, cv2.BORDER_CONSTANT, value=(0,0,0))\n",
    "    img = img_to_array(im)\n",
    "    print(np.argmax(model.predict(np.reshape(img,(1,pixel,pixel,channels)))))\n"
   ]
  },
  {
   "cell_type": "code",
   "execution_count": null,
   "id": "60307422-c1ce-44c5-8b0f-eacb538cd62f",
   "metadata": {
    "tags": []
   },
   "outputs": [],
   "source": [
    "for k in range(test.shape[0]):\n",
    "    filename= \"/mnt/louisayu/nfs_share2/embryo/pubdata/\"+test['Image'][k]\n",
    "      \n",
    "    im = cv2.imread(filename)#,cv2.IMREAD_GRAYSCALE)\n",
    "    im = cv2.resize(im,(pixel,pixel))\n",
    "    im = cv2.normalize(im, None, 0, 255, norm_type=cv2.NORM_MINMAX)\n",
    "    #im = cv2.copyMakeBorder(im, 32, 32, 0, 0, cv2.BORDER_CONSTANT, value=(0,0,0))\n",
    "    img = img_to_array(im)\n",
    "    print(np.argmax(combine_model.predict(np.reshape(img,(1,pixel,pixel,channels)))))\n"
   ]
  },
  {
   "cell_type": "code",
   "execution_count": null,
   "id": "cf8c4526-82c3-435b-bb90-c896c7b534bb",
   "metadata": {},
   "outputs": [],
   "source": []
  }
 ],
 "metadata": {
  "kernelspec": {
   "display_name": "Python 3 (ipykernel)",
   "language": "python",
   "name": "python3"
  },
  "language_info": {
   "codemirror_mode": {
    "name": "ipython",
    "version": 3
   },
   "file_extension": ".py",
   "mimetype": "text/x-python",
   "name": "python",
   "nbconvert_exporter": "python",
   "pygments_lexer": "ipython3",
   "version": "3.7.12"
  }
 },
 "nbformat": 4,
 "nbformat_minor": 5
}

{
 "cells": [
  {
   "cell_type": "code",
   "execution_count": null,
   "id": "299680f8-cf34-4bf5-adf8-a9c5741404d9",
   "metadata": {
    "tags": []
   },
   "outputs": [],
   "source": [
    "import time\n",
    "#time.sleep(60*60*8)\n",
    "\n",
    "import numpy as np\n",
    "from numpy import asarray\n",
    "import pandas as pd\n",
    "\n",
    "import tensorflow as tf\n",
    "from tensorflow import keras\n",
    "from keras import backend as K\n",
    "from tensorflow.keras.callbacks import ModelCheckpoint, EarlyStopping,ReduceLROnPlateau, TensorBoard\n",
    "from tensorflow.keras.models import Sequential\n",
    "from tensorflow.keras import models, regularizers, layers, optimizers, losses, metrics\n",
    "from tensorflow.keras.layers import Dense, Dropout, Flatten, LeakyReLU, Conv2D, MaxPooling2D \n",
    "from tensorflow.keras.preprocessing.image import load_img, img_to_array, ImageDataGenerator\n",
    "from tensorflow.python.client import device_lib\n",
    "import tensorflow.compat.v1.keras.backend as K\n",
    "import tensorflow.compat.v1 as tf1\n",
    "\n",
    "import cv2\n",
    "import matplotlib.pyplot as plt\n",
    "from PIL import Image\n",
    "import imgaug.augmenters as iaa\n",
    "from skimage import data, color, img_as_ubyte ,io\n",
    "from skimage.feature import canny\n",
    "from skimage.transform import hough_ellipse\n",
    "from skimage.draw import ellipse_perimeter\n",
    "from skimage.color import rgb2gray,rgba2rgb\n",
    "\n",
    "from sklearn.model_selection import train_test_split, KFold\n",
    "from sklearn.metrics import f1_score, accuracy_score, confusion_matrix, precision_score, recall_score, classification_report,roc_auc_score,ConfusionMatrixDisplay\n",
    "from sklearn.utils import class_weight\n",
    "import imutils\n",
    "import os\n",
    "import random\n",
    "from tqdm import tqdm\n",
    "import urllib.request\n",
    "\n",
    "\n",
    "tf.keras.backend.clear_session()\n",
    "os.environ[\"CUDA_VISIBLE_DEVICES\"] = \"0\" \n",
    "config = tf.compat.v1.ConfigProto()\n",
    "config.gpu_options.allow_growth=True\n",
    "sess = tf.compat.v1.Session(config=config)\n",
    "strategy = tf.distribute.MirroredStrategy()\n",
    "\n",
    "from classification_models.tfkeras import Classifiers\n",
    "Resnext, preprocess_input = Classifiers.get('resnext50')"
   ]
  },
  {
   "cell_type": "code",
   "execution_count": null,
   "id": "6af442fb-674b-4b8f-b22a-bc3a0d5c0ae1",
   "metadata": {
    "tags": []
   },
   "outputs": [],
   "source": [
    "def decode(a):\n",
    "    if a =='A' or a =='2':\n",
    "        return int(2)\n",
    "    elif  a=='B' or a == '1':\n",
    "        return int(1)\n",
    "    elif a=='C' or a =='0':\n",
    "        return int(0)\n",
    "    else:\n",
    "        return int(a)\n",
    "\n",
    "    \n",
    "def to_categorical(y, num_classes=None, dtype='float32'):\n",
    "\n",
    " \n",
    "    y = np.array(y, dtype='int')\n",
    "\n",
    "    input_shape = y.shape\n",
    "    if input_shape and input_shape[-1] == 1 and len(input_shape) > 1:\n",
    "        input_shape = tuple(input_shape[:-1])\n",
    "\n",
    "    y = y.ravel()\n",
    "\n",
    "    if not num_classes:\n",
    "        num_classes = np.max(y) + 1\n",
    "    n = y.shape[0]\n",
    "\n",
    "    categorical = np.zeros((n, num_classes), dtype=dtype)\n",
    "\n",
    "    categorical[np.arange(n), y] = 1\n",
    "    output_shape = input_shape + (num_classes,)\n",
    "    categorical = np.reshape(categorical, output_shape)\n",
    "    return categorical\n",
    "\n",
    "def label_smoothing(y, num_classes=3, dtype='float32',factor=0.3):\n",
    "    y = np.array(y, dtype='int')\n",
    "    input_shape = y.shape\n",
    "    if input_shape and input_shape[-1] == 1 and len(input_shape) > 1:\n",
    "         input_shape = tuple(input_shape[:-1])\n",
    "\n",
    "    y = y.ravel()\n",
    "    if not num_classes:\n",
    "         num_classes = np.max(y) + 1\n",
    "    n = y.shape[0]\n",
    "    categorical = np.zeros((n, num_classes), dtype=dtype)\n",
    "\n",
    "    for i in np.arange(n):\n",
    "        if y[i]-1>=0 and y[i]+1<num_classes:\n",
    "            categorical[np.arange(n), y] = 1-factor\n",
    "            categorical[i, y[i]-1] = factor/2\n",
    "            categorical[i, y[i]+1] = factor/2\n",
    "        elif y[i]-1>=0 and y[i]+1>=num_classes:\n",
    "            categorical[np.arange(n), y] = 1-factor\n",
    "            categorical[i, y[i]-1] = factor\n",
    "        else:\n",
    "            categorical[np.arange(n), y] = 1-factor\n",
    "            categorical[i, y[i]+1] = factor\n",
    "    output_shape = input_shape + (num_classes,)\n",
    "    categorical = np.reshape(categorical, output_shape)\n",
    "    return categorical\n",
    "        \n",
    "        "
   ]
  },
  {
   "cell_type": "code",
   "execution_count": 3,
   "id": "19681e09-a3fe-405f-8da2-d447fdcc4083",
   "metadata": {
    "tags": []
   },
   "outputs": [
    {
     "name": "stderr",
     "output_type": "stream",
     "text": [
      " 85%|████████████████████████████████████████████▎       | 405/475 [00:01<00:00, 201.10it/s][ WARN:0@3.566] global loadsave.cpp:248 findDecoder imread_('/mnt/louisayu/nfs_share2/embryo/preprocess_rec/20200713 LYT.bmp'): can't open/read file: check file path/integrity\n",
      "[ WARN:0@3.566] global loadsave.cpp:248 findDecoder imread_('/mnt/louisayu/nfs_share2/embryo/preprocess_rec/20210329 AUYK.bmp'): can't open/read file: check file path/integrity\n",
      "[ WARN:0@3.566] global loadsave.cpp:248 findDecoder imread_('/mnt/louisayu/nfs_share2/embryo/preprocess_rec/20220501 LKM.jpg'): can't open/read file: check file path/integrity\n",
      "100%|████████████████████████████████████████████████████| 475/475 [00:01<00:00, 296.20it/s]\n"
     ]
    },
    {
     "name": "stdout",
     "output_type": "stream",
     "text": [
      "fine: /mnt/louisayu/nfs_share2/embryo/preprocess_rec/20200713 LYT.bmp\n",
      "fine: /mnt/louisayu/nfs_share2/embryo/preprocess_rec/20210329 AUYK.bmp\n",
      "fine: /mnt/louisayu/nfs_share2/embryo/preprocess_rec/20220501 LKM.jpg\n"
     ]
    },
    {
     "name": "stderr",
     "output_type": "stream",
     "text": [
      "100%|██████████████████████████████████████████████████| 2044/2044 [00:12<00:00, 169.90it/s]\n",
      " 15%|███████▉                                             | 45/300 [00:00<00:01, 187.11it/s]"
     ]
    },
    {
     "name": "stdout",
     "output_type": "stream",
     "text": [
      "test: /mnt/louisayu/nfs_share2/embryo/pubdata/0020_02.png\n",
      "test: /mnt/louisayu/nfs_share2/embryo/pubdata/0036_05.png\n"
     ]
    },
    {
     "name": "stderr",
     "output_type": "stream",
     "text": [
      " 34%|█████████████████▌                                  | 101/300 [00:00<00:01, 171.78it/s]"
     ]
    },
    {
     "name": "stdout",
     "output_type": "stream",
     "text": [
      "test: /mnt/louisayu/nfs_share2/embryo/pubdata/0167_01.png\n"
     ]
    },
    {
     "name": "stderr",
     "output_type": "stream",
     "text": [
      " 46%|███████████████████████▉                            | 138/300 [00:00<00:00, 174.35it/s]"
     ]
    },
    {
     "name": "stdout",
     "output_type": "stream",
     "text": [
      "test: /mnt/louisayu/nfs_share2/embryo/pubdata/292_03.png\n"
     ]
    },
    {
     "name": "stderr",
     "output_type": "stream",
     "text": [
      " 76%|███████████████████████████████████████▌            | 228/300 [00:01<00:00, 167.75it/s]"
     ]
    },
    {
     "name": "stdout",
     "output_type": "stream",
     "text": [
      "test: /mnt/louisayu/nfs_share2/embryo/pubdata/511_01.png\n"
     ]
    },
    {
     "name": "stderr",
     "output_type": "stream",
     "text": [
      " 93%|████████████████████████████████████████████████▌   | 280/300 [00:01<00:00, 163.44it/s]"
     ]
    },
    {
     "name": "stdout",
     "output_type": "stream",
     "text": [
      "test: /mnt/louisayu/nfs_share2/embryo/pubdata/677_01.png\n",
      "test: /mnt/louisayu/nfs_share2/embryo/pubdata/824_02.png\n"
     ]
    },
    {
     "name": "stderr",
     "output_type": "stream",
     "text": [
      "100%|████████████████████████████████████████████████████| 300/300 [00:01<00:00, 168.12it/s]"
     ]
    },
    {
     "name": "stdout",
     "output_type": "stream",
     "text": [
      "test: /mnt/louisayu/nfs_share2/embryo/pubdata/833_02.png\n"
     ]
    },
    {
     "name": "stderr",
     "output_type": "stream",
     "text": [
      "\n"
     ]
    }
   ],
   "source": [
    "#input     \n",
    "fine= pd.read_csv('/mnt/louisayu/nfs_share2/embryo/code/em_aug/grading/fresh.csv')  \n",
    "train=pd.read_csv(\"/mnt/louisayu/nfs_share2/embryo/code/em_aug/grading/Gardner_train_silver.csv\")\n",
    "test=pd.read_csv(\"/mnt/louisayu/nfs_share2/embryo/code/em_aug/grading/Gardner_test_gold_onlyGardnerScores.csv\")\n",
    "\n",
    "pixel=256\n",
    "channels=3\n",
    "NUM_CLASSES=5\n",
    "\n",
    "fine_image=[]\n",
    "fine_label=[]\n",
    "\n",
    "train_image = []\n",
    "train_label = []\n",
    "\n",
    "test_image=[]\n",
    "test_label=[]\n",
    "testname=[]\n",
    "\n",
    "\n",
    "for i in tqdm(range(fine.shape[0])):\n",
    "    filename= \"/mnt/louisayu/nfs_share2/embryo/preprocess_rec/\"+fine['image'][i]\n",
    "    if not fine['g2'][i]=='ND':\n",
    "        try:\n",
    "            im = cv2.imread(filename)#,cv2.IMREAD_GRAYSCALE)\n",
    "            im = cv2.resize(im,(pixel,pixel))\n",
    "            im = cv2.normalize(im, None, 0, 255, norm_type=cv2.NORM_MINMAX)\n",
    "            img = img_to_array(im)\n",
    "            fine_label.append(decode(fine['g2'][i]))\n",
    "            fine_image.append(img)\n",
    "        except:\n",
    "            print(\"fine:\", filename)\n",
    "        \n",
    "for j in tqdm(range(train.shape[0])):\n",
    "    filename= \"/mnt/louisayu/nfs_share2/embryo/pubdata/\"+train['Image'][j]\n",
    "    if not train['g2'][j]=='ND':\n",
    "        try:  \n",
    "            im = cv2.imread(filename)#,cv2.IMREAD_GRAYSCALE)\n",
    "            im = cv2.resize(im,(pixel,pixel))\n",
    "            im = cv2.normalize(im, None, 0, 255, norm_type=cv2.NORM_MINMAX)\n",
    "            #im = cv2.copyMakeBorder(im, 32, 32, 0, 0, cv2.BORDER_CONSTANT, value=(0,0,0))\n",
    "            img = img_to_array(im)\n",
    "            train_label.append(decode(train['g2'][j]))\n",
    "            train_image.append(img)\n",
    "        except:\n",
    "            print(\"train:\", filename)\n",
    "                \n",
    "for k in tqdm(range(test.shape[0])):\n",
    "    filename= \"/mnt/louisayu/nfs_share2/embryo/pubdata/\"+test['Image'][k]\n",
    "    if not test['g2'][k]=='NA' and not test['g2'][k]=='ND':\n",
    "        try:   \n",
    "            im = cv2.imread(filename)#,cv2.IMREAD_GRAYSCALE)\n",
    "            im = cv2.resize(im,(pixel,pixel))\n",
    "            im = cv2.normalize(im, None, 0, 255, norm_type=cv2.NORM_MINMAX)\n",
    "            #im = cv2.copyMakeBorder(im, 32, 32, 0, 0, cv2.BORDER_CONSTANT, value=(0,0,0))\n",
    "            img = img_to_array(im)\n",
    "            test_label.append(decode(test['g2'][k]))\n",
    "            test_image.append(img)\n",
    "            testname.append(test['Image'][k])\n",
    "        except:\n",
    "            print(\"test:\", filename)"
   ]
  },
  {
   "cell_type": "code",
   "execution_count": 4,
   "id": "3610c7f3-d38a-4ec8-bff7-22a4489ac217",
   "metadata": {
    "tags": []
   },
   "outputs": [
    {
     "name": "stdout",
     "output_type": "stream",
     "text": [
      "before aug, a0: 16\n",
      "before aug, a1: 332\n",
      "before aug, a2: 1305\n"
     ]
    }
   ],
   "source": [
    "     \n",
    "a0= [x for x, y in list(enumerate(train_label)) if y ==0]\n",
    "a1= [x for x, y in list(enumerate(train_label)) if y ==1]\n",
    "a2= [x for x, y in list(enumerate(train_label)) if y ==2]\n",
    "\n",
    "print(\"before aug, a0:\",len(a0))\n",
    "print(\"before aug, a1:\",len(a1))\n",
    "print(\"before aug, a2:\",len(a2))    \n"
   ]
  },
  {
   "cell_type": "code",
   "execution_count": 5,
   "id": "098b0802-b698-4504-bccb-e79619e03af5",
   "metadata": {
    "tags": []
   },
   "outputs": [
    {
     "name": "stdout",
     "output_type": "stream",
     "text": [
      "16 332\n",
      "after aug, a0: 48\n",
      "after aug, a1: 996\n",
      "after aug, a2: 1305\n"
     ]
    }
   ],
   "source": [
    "#augmentation\n",
    "import imgaug.augmenters as iaa\n",
    "\n",
    "sometimes = lambda aug: iaa.Sometimes(0.5, aug)  \n",
    "seq= iaa.Sequential([\n",
    "    iaa.SomeOf((1, 3),\n",
    "               [\n",
    "    sometimes(iaa.CoarseSaltAndPepper(0.05, size_percent=(0.01, 0.1))),\n",
    "    iaa.GammaContrast((0.1)),\n",
    "    iaa.MotionBlur(k=15),\n",
    "    sometimes(iaa.Emboss(alpha=(0.0, 1.0), strength=(0.5, 1.5))),\n",
    "    iaa.Affine(translate_percent={\"x\": (-0.2, 0.2), \"y\": (-0.2, 0.2)}), # translate by -20 to +20 percent (per axis)),\n",
    "    iaa.pillike.EnhanceSharpness()],\n",
    "            random_order=True)\n",
    "])\n",
    "seq1=iaa.Sequential([\n",
    "    iaa.SomeOf((2, 3),\n",
    "               [\n",
    "    iaa.GaussianBlur(sigma=(0.0, 3.0)),\n",
    "    iaa.GammaContrast((0.1)),\n",
    "    iaa.Affine(translate_percent={\"x\": (-0.2, 0.2), \"y\": (-0.2, 0.2)}), # translate by -20 to +20 percent (per axis)),\n",
    "    iaa.pillike.EnhanceSharpness()],\n",
    "            random_order=True)\n",
    "])\n",
    "    \n",
    "    \n",
    "img0=[]\n",
    "for i in a0:\n",
    "    img0.append(train_image[i].astype(np.uint8))\n",
    "    \n",
    "img1=[]\n",
    "for i in a1:\n",
    "    img1.append(train_image[i].astype(np.uint8))\n",
    "print(len(img0),len(img1))\n",
    "\n",
    "img0seq = seq(images=img0)\n",
    "train_image.extend(img0seq)\n",
    "img0seq1=  seq1(images=img0) \n",
    "train_image.extend(img0seq1)  \n",
    "for i in range(len(img0seq)):\n",
    "    train_label.append(0)\n",
    "for i in range(len(img0seq1)):\n",
    "    train_label.append(0)\n",
    "    \n",
    "img1seq = seq(images=img1)\n",
    "train_image.extend(img1seq)\n",
    "for i in range(len(img1seq)):\n",
    "    train_label.append(1)\n",
    "    \n",
    "img1seq1 = seq1(images=img1)\n",
    "train_image.extend(img1seq1)\n",
    "for i in range(len(img1seq1)):\n",
    "    train_label.append(1)\n",
    "\n",
    "        \n",
    "a0= [x for x, y in list(enumerate(train_label)) if y ==0]\n",
    "a1= [x for x, y in list(enumerate(train_label)) if y ==1]\n",
    "a2= [x for x, y in list(enumerate(train_label)) if y ==2]\n",
    "\n",
    "print(\"after aug, a0:\",len(a0))\n",
    "print(\"after aug, a1:\",len(a1))\n",
    "print(\"after aug, a2:\",len(a2))    \n",
    "\n"
   ]
  },
  {
   "cell_type": "code",
   "execution_count": 6,
   "id": "8b4943f5-e9c8-4a89-b117-22de3d1e0c62",
   "metadata": {
    "tags": []
   },
   "outputs": [],
   "source": [
    "#preprocess input\n",
    "xtrain = np.array(train_image,dtype='float32')  \n",
    "ytrain = np.array(train_label)\n",
    "\n",
    "X_train, X_val, Y_train, Y_val = train_test_split(xtrain, ytrain, shuffle=True,random_state=42, test_size=0.15)\n",
    "\n",
    "y_train= to_categorical(Y_train,3)\n",
    "y_val=to_categorical(Y_val,3)\n"
   ]
  },
  {
   "cell_type": "code",
   "execution_count": 56,
   "id": "d4ea38c2-cf4f-4503-959f-06bf0fd0b34b",
   "metadata": {
    "tags": []
   },
   "outputs": [
    {
     "name": "stdout",
     "output_type": "stream",
     "text": [
      "Model: \"resnext50_icm\"\n",
      "_________________________________________________________________\n",
      "Layer (type)                 Output Shape              Param #   \n",
      "=================================================================\n",
      "resizing_2 (Resizing)        (None, 224, 224, 3)       0         \n",
      "_________________________________________________________________\n",
      "random_rotation_2 (RandomRot (None, 224, 224, 3)       0         \n",
      "_________________________________________________________________\n",
      "random_flip_2 (RandomFlip)   (None, 224, 224, 3)       0         \n",
      "_________________________________________________________________\n",
      "batch_normalization_2 (Batch (None, 224, 224, 3)       12        \n",
      "_________________________________________________________________\n",
      "model_2 (Functional)         (None, 1000)              25097137  \n",
      "_________________________________________________________________\n",
      "dense_2 (Dense)              (None, 3)                 3003      \n",
      "=================================================================\n",
      "Total params: 25,100,152\n",
      "Trainable params: 25,031,916\n",
      "Non-trainable params: 68,236\n",
      "_________________________________________________________________\n",
      "None\n",
      "{0: 15.841269841269842, 1: 0.7939538583929993, 2: 0.5961768219832736}\n",
      "Epoch 1/80\n",
      "63/63 - 36s - loss: 2.0248 - accuracy: 0.4780 - aucc: 0.5975 - val_loss: 2.3935 - val_accuracy: 0.2323 - val_aucc: 0.5298\n",
      "Epoch 2/80\n",
      "63/63 - 13s - loss: 1.7168 - accuracy: 0.6237 - aucc: 0.7231 - val_loss: 1.7807 - val_accuracy: 0.4476 - val_aucc: 0.5503\n",
      "Epoch 3/80\n",
      "63/63 - 13s - loss: 1.6036 - accuracy: 0.6518 - aucc: 0.7960 - val_loss: 1.8835 - val_accuracy: 0.3938 - val_aucc: 0.5946\n",
      "Epoch 4/80\n",
      "63/63 - 13s - loss: 1.4776 - accuracy: 0.6904 - aucc: 0.8499 - val_loss: 1.8058 - val_accuracy: 0.4363 - val_aucc: 0.5763\n",
      "Epoch 5/80\n",
      "63/63 - 13s - loss: 1.4516 - accuracy: 0.6979 - aucc: 0.8536 - val_loss: 1.7602 - val_accuracy: 0.4391 - val_aucc: 0.6922\n",
      "Epoch 6/80\n",
      "63/63 - 13s - loss: 1.3994 - accuracy: 0.7290 - aucc: 0.8846 - val_loss: 1.6840 - val_accuracy: 0.4788 - val_aucc: 0.7245\n",
      "Epoch 7/80\n",
      "63/63 - 13s - loss: 1.3941 - accuracy: 0.7214 - aucc: 0.8987 - val_loss: 1.5905 - val_accuracy: 0.5496 - val_aucc: 0.7948\n",
      "Epoch 8/80\n",
      "63/63 - 13s - loss: 1.3752 - accuracy: 0.7270 - aucc: 0.8939 - val_loss: 1.4396 - val_accuracy: 0.6657 - val_aucc: 0.7655\n",
      "Epoch 9/80\n",
      "63/63 - 13s - loss: 1.3265 - accuracy: 0.7555 - aucc: 0.9138 - val_loss: 1.3994 - val_accuracy: 0.6941 - val_aucc: 0.7867\n",
      "Epoch 10/80\n",
      "63/63 - 13s - loss: 1.2890 - accuracy: 0.7806 - aucc: 0.9241 - val_loss: 1.3952 - val_accuracy: 0.6884 - val_aucc: 0.8007\n",
      "Epoch 11/80\n",
      "63/63 - 13s - loss: 1.2503 - accuracy: 0.7911 - aucc: 0.9263 - val_loss: 1.3337 - val_accuracy: 0.7422 - val_aucc: 0.8160\n",
      "Epoch 12/80\n",
      "63/63 - 13s - loss: 1.2728 - accuracy: 0.8141 - aucc: 0.9294 - val_loss: 1.2608 - val_accuracy: 0.7989 - val_aucc: 0.8336\n",
      "Epoch 13/80\n",
      "63/63 - 13s - loss: 1.2462 - accuracy: 0.8151 - aucc: 0.9376 - val_loss: 1.2459 - val_accuracy: 0.8074 - val_aucc: 0.8644\n",
      "Epoch 14/80\n",
      "63/63 - 13s - loss: 1.2236 - accuracy: 0.8467 - aucc: 0.9466 - val_loss: 1.2283 - val_accuracy: 0.8187 - val_aucc: 0.8679\n",
      "Epoch 15/80\n",
      "63/63 - 13s - loss: 1.2029 - accuracy: 0.8632 - aucc: 0.9487 - val_loss: 1.2851 - val_accuracy: 0.7819 - val_aucc: 0.8540\n",
      "Epoch 16/80\n",
      "63/63 - 13s - loss: 1.2360 - accuracy: 0.8282 - aucc: 0.9440 - val_loss: 1.2548 - val_accuracy: 0.7932 - val_aucc: 0.8689\n",
      "Epoch 17/80\n",
      "63/63 - 13s - loss: 1.2430 - accuracy: 0.8287 - aucc: 0.9363 - val_loss: 1.2273 - val_accuracy: 0.8187 - val_aucc: 0.8583\n",
      "Epoch 18/80\n",
      "63/63 - 13s - loss: 1.1959 - accuracy: 0.8392 - aucc: 0.9404 - val_loss: 1.2575 - val_accuracy: 0.7904 - val_aucc: 0.8533\n",
      "Epoch 19/80\n",
      "63/63 - 13s - loss: 1.1827 - accuracy: 0.8602 - aucc: 0.9469 - val_loss: 1.2197 - val_accuracy: 0.8244 - val_aucc: 0.8529\n",
      "Epoch 20/80\n",
      "63/63 - 13s - loss: 1.1341 - accuracy: 0.8702 - aucc: 0.9540 - val_loss: 1.2540 - val_accuracy: 0.7932 - val_aucc: 0.8527\n",
      "Epoch 21/80\n",
      "63/63 - 13s - loss: 1.1192 - accuracy: 0.8637 - aucc: 0.9583 - val_loss: 1.2206 - val_accuracy: 0.8215 - val_aucc: 0.8515\n",
      "Epoch 22/80\n",
      "63/63 - 13s - loss: 1.1553 - accuracy: 0.8457 - aucc: 0.9450 - val_loss: 1.2095 - val_accuracy: 0.8187 - val_aucc: 0.8529\n",
      "Epoch 23/80\n",
      "63/63 - 13s - loss: 1.1349 - accuracy: 0.8773 - aucc: 0.9599 - val_loss: 1.2509 - val_accuracy: 0.7847 - val_aucc: 0.8483\n",
      "Epoch 24/80\n",
      "63/63 - 13s - loss: 1.1084 - accuracy: 0.8843 - aucc: 0.9656 - val_loss: 1.1718 - val_accuracy: 0.8555 - val_aucc: 0.8689\n",
      "Epoch 25/80\n",
      "63/63 - 13s - loss: 1.1270 - accuracy: 0.8783 - aucc: 0.9636 - val_loss: 1.1861 - val_accuracy: 0.8414 - val_aucc: 0.8585\n",
      "Epoch 26/80\n",
      "63/63 - 13s - loss: 1.1469 - accuracy: 0.8677 - aucc: 0.9611 - val_loss: 1.2438 - val_accuracy: 0.7847 - val_aucc: 0.8387\n",
      "Epoch 27/80\n",
      "63/63 - 13s - loss: 1.1647 - accuracy: 0.8317 - aucc: 0.9462 - val_loss: 1.1675 - val_accuracy: 0.8470 - val_aucc: 0.8550\n",
      "Epoch 28/80\n",
      "63/63 - 13s - loss: 1.0981 - accuracy: 0.8763 - aucc: 0.9675 - val_loss: 1.1617 - val_accuracy: 0.8555 - val_aucc: 0.8535\n",
      "Epoch 29/80\n",
      "63/63 - 13s - loss: 1.1203 - accuracy: 0.9023 - aucc: 0.9671 - val_loss: 1.1477 - val_accuracy: 0.8669 - val_aucc: 0.8592\n",
      "Epoch 30/80\n",
      "63/63 - 13s - loss: 1.1058 - accuracy: 0.8873 - aucc: 0.9703 - val_loss: 1.2268 - val_accuracy: 0.8187 - val_aucc: 0.8640\n",
      "Epoch 31/80\n",
      "63/63 - 13s - loss: 1.0973 - accuracy: 0.8833 - aucc: 0.9703 - val_loss: 1.2224 - val_accuracy: 0.8045 - val_aucc: 0.8528\n",
      "Epoch 32/80\n",
      "63/63 - 13s - loss: 1.0976 - accuracy: 0.8722 - aucc: 0.9685 - val_loss: 1.1738 - val_accuracy: 0.8385 - val_aucc: 0.8623\n",
      "Epoch 33/80\n",
      "63/63 - 13s - loss: 1.0919 - accuracy: 0.8913 - aucc: 0.9724 - val_loss: 1.1755 - val_accuracy: 0.8329 - val_aucc: 0.8537\n",
      "Epoch 34/80\n",
      "63/63 - 13s - loss: 1.0701 - accuracy: 0.9058 - aucc: 0.9742 - val_loss: 1.1434 - val_accuracy: 0.8555 - val_aucc: 0.8615\n",
      "Epoch 35/80\n",
      "63/63 - 13s - loss: 1.1061 - accuracy: 0.8873 - aucc: 0.9629 - val_loss: 1.1903 - val_accuracy: 0.8130 - val_aucc: 0.8704\n",
      "Epoch 36/80\n",
      "63/63 - 13s - loss: 1.1008 - accuracy: 0.8873 - aucc: 0.9702 - val_loss: 1.2282 - val_accuracy: 0.7762 - val_aucc: 0.8602\n",
      "Epoch 37/80\n",
      "63/63 - 13s - loss: 1.0597 - accuracy: 0.9093 - aucc: 0.9788 - val_loss: 1.1675 - val_accuracy: 0.8272 - val_aucc: 0.8851\n",
      "Epoch 38/80\n",
      "63/63 - 13s - loss: 1.1089 - accuracy: 0.8978 - aucc: 0.9755 - val_loss: 1.3220 - val_accuracy: 0.6912 - val_aucc: 0.8316\n",
      "Epoch 39/80\n",
      "63/63 - 13s - loss: 1.0661 - accuracy: 0.9068 - aucc: 0.9782 - val_loss: 1.1826 - val_accuracy: 0.8159 - val_aucc: 0.8969\n",
      "Epoch 40/80\n",
      "63/63 - 13s - loss: 1.0698 - accuracy: 0.8948 - aucc: 0.9766 - val_loss: 1.2060 - val_accuracy: 0.7960 - val_aucc: 0.8718\n",
      "Epoch 41/80\n",
      "63/63 - 13s - loss: 1.0915 - accuracy: 0.8753 - aucc: 0.9699 - val_loss: 1.1881 - val_accuracy: 0.8102 - val_aucc: 0.8549\n",
      "\n",
      "Epoch 00041: ReduceLROnPlateau reducing learning rate to 2.3999999393709006e-05.\n",
      "Epoch 42/80\n",
      "63/63 - 13s - loss: 1.0496 - accuracy: 0.9138 - aucc: 0.9795 - val_loss: 1.1628 - val_accuracy: 0.8329 - val_aucc: 0.8682\n",
      "Epoch 43/80\n",
      "63/63 - 13s - loss: 1.0463 - accuracy: 0.9264 - aucc: 0.9822 - val_loss: 1.1414 - val_accuracy: 0.8442 - val_aucc: 0.8762\n",
      "Epoch 44/80\n",
      "63/63 - 13s - loss: 1.0414 - accuracy: 0.9419 - aucc: 0.9849 - val_loss: 1.1405 - val_accuracy: 0.8442 - val_aucc: 0.8695\n",
      "Restoring model weights from the end of the best epoch.\n",
      "Epoch 00044: early stopping\n"
     ]
    }
   ],
   "source": [
    "#model\n",
    "def ordinal_loss(y_true,y_pred):\n",
    "    #y_true = tf.cast(y_true, dtype=tf.int256)\n",
    "    weights= K.cast(K.abs(K.argmax(y_true,axis=1)-K.argmax(y_pred,axis=1)),dtype='float32')\n",
    "    return (1+weights)*tf.keras.losses.categorical_crossentropy(y_true,y_pred)\n",
    "\n",
    "# # with strategy.scope():\n",
    "# vit_model = vit.vit_b16(\n",
    "#         image_size = 224,\n",
    "#         activation = 'linear',\n",
    "#         pretrained = True,\n",
    "#         include_top = True,\n",
    "#         pretrained_top =True,)\n",
    "#         #classes = 3)\n",
    "\n",
    "resnext50 = Resnext((224, 224, 3),include_top=True, weights='imagenet')\n",
    "model = Sequential([\n",
    "        layers.Input(shape=(pixel,pixel,channels),name='main_input'),\n",
    "        layers.Resizing(224, 224),\n",
    "        layers.RandomRotation(factor=(-0.2, 0.3)),\n",
    "        # layers.RandomZoom(height_factor=-0.1, width_factor=-0.1),\n",
    "        layers.RandomFlip(mode=\"horizontal_and_vertical\"),\n",
    "        layers.BatchNormalization(),\n",
    "        # vit_model,\n",
    "        resnext50,\n",
    "        layers.Dense(3,activation='softmax'),\n",
    "    ],\n",
    "    name = 'resnext50_icm')\n",
    "\n",
    "from keras import backend as K\n",
    "\n",
    "opt = tf.keras.optimizers.Adam(learning_rate=0.00003)\n",
    "model.compile(optimizer=opt,  loss=ordinal_loss, metrics =['accuracy', tf.keras.metrics.AUC(multi_label = True, name='aucc')]) \n",
    "\n",
    "print(model.summary())\n",
    "\n",
    "\n",
    "def get_callbacks():\n",
    "    checkpoint_filepath = '/mnt/louisayu/nfs_share2/embryo/model_weights1/g2/ep{epoch:03d}_acc{val_accuracy:.4f}_val_loss{val_loss:.4f}.h5'\n",
    "    return [\n",
    "            EarlyStopping(monitor=\"val_accuracy\", mode=\"max\", patience = 15, verbose=1, restore_best_weights=True),\n",
    "            \n",
    "            ReduceLROnPlateau(monitor=\"val_loss\", mode=\"min\", factor=0.8, min_lr=1e-6, patience=7, verbose=1),\n",
    "            \n",
    "            ModelCheckpoint(checkpoint_filepath, monitor=\"val_accuracy\", mode=\"max\", save_weights_only=True) # save_best_only=True)\n",
    "           ]\n",
    "\n",
    "from sklearn.utils import class_weight\n",
    "y_integers = np.argmax(y_train, axis=1)\n",
    "class_weights = class_weight.compute_class_weight(class_weight='balanced', classes=np.unique(y_integers), y=y_integers)\n",
    "d_class_weights = dict(enumerate(class_weights))\n",
    "print(d_class_weights)\n",
    "\n",
    "history=model.fit(X_train, y_train, batch_size= 32, validation_data=(X_val, y_val), epochs=80, verbose=2, shuffle=True,callbacks=get_callbacks(),class_weight=d_class_weights)"
   ]
  },
  {
   "cell_type": "code",
   "execution_count": 11,
   "id": "5f4f88d2-4c6e-4ea5-89e9-58ce25c894a8",
   "metadata": {
    "tags": []
   },
   "outputs": [
    {
     "data": {
      "image/png": "[encoded data removed]",
      "text/plain": [
       "<Figure size 640x480 with 1 Axes>"
      ]
     },
     "metadata": {},
     "output_type": "display_data"
    },
    {
     "data": {
      "image/png": "[encoded data removed]",
      "text/plain": [
       "<Figure size 640x480 with 1 Axes>"
      ]
     },
     "metadata": {},
     "output_type": "display_data"
    }
   ],
   "source": [
    "#Summarize history for accuracy\n",
    "plt.plot(history.history['accuracy'])\n",
    "plt.plot(history.history['val_accuracy'])\n",
    "plt.title('model accuracy')\n",
    "plt.ylabel('accuracy')\n",
    "plt.xlabel('epoch')\n",
    "plt.legend(['train', 'test'], loc='upper left')\n",
    "plt.show()\n",
    "\n",
    "#Summarize history for loss\n",
    "plt.plot(history.history['loss'])\n",
    "plt.plot(history.history['val_loss'])\n",
    "plt.title('model loss')\n",
    "plt.ylabel('loss')\n",
    "plt.xlabel('epoch')\n",
    "plt.legend(['train', 'test'], loc='upper left')\n",
    "plt.show()\n",
    "    "
   ]
  },
  {
   "cell_type": "code",
   "execution_count": 183,
   "id": "7008e28f-8fbe-4c05-903a-568aa810392a",
   "metadata": {
    "tags": []
   },
   "outputs": [
    {
     "name": "stdout",
     "output_type": "stream",
     "text": [
      "roc_auc_score: 0.7018374343201333\n",
      "f1_score: 0.7233338477351278\n",
      "accuracy_score: 0.7478991596638656\n",
      "              precision    recall  f1-score   support\n",
      "\n",
      "           0       0.25      0.06      0.10        17\n",
      "           1       0.62      0.56      0.59        68\n",
      "           2       0.80      0.91      0.85       153\n",
      "\n",
      "    accuracy                           0.75       238\n",
      "   macro avg       0.56      0.51      0.51       238\n",
      "weighted avg       0.71      0.75      0.72       238\n",
      "\n"
     ]
    },
    {
     "name": "stderr",
     "output_type": "stream",
     "text": [
      "/mnt/louisayu/nfs_share2/anaconda3/envs/tf/lib/python3.7/site-packages/keras/utils/generic_utils.py:497: CustomMaskWarning: Custom mask layers require a config and must override get_config. When loading, the custom mask layer must be passed to the custom_objects argument.\n",
      "  category=CustomMaskWarning)\n"
     ]
    },
    {
     "data": {
      "image/png": "[encoded data removed]",
      "text/plain": [
       "<Figure size 640x480 with 2 Axes>"
      ]
     },
     "metadata": {},
     "output_type": "display_data"
    }
   ],
   "source": [
    "x_test = np.reshape(test_image,(len(test_label),pixel,pixel,channels))\n",
    "y_test = np.reshape(test_label,(len(test_label),1))\n",
    "\n",
    "y_prediction=model.predict(x_test)\n",
    "score = roc_auc_score(y_test, y_prediction, multi_class='ovr')\n",
    "print(\"roc_auc_score:\", score)\n",
    "y_prediction = np.argmax(y_prediction, axis=1)\n",
    "print(\"f1_score:\", f1_score(y_test, y_prediction, average='weighted'))   \n",
    "ac=accuracy_score(y_test, y_prediction)\n",
    "print(\"accuracy_score:\", ac)\n",
    "print(classification_report(y_test, y_prediction))\n",
    "\n",
    "model.save('/mnt/louisayu/nfs_share2/embryo/model_weights1/g2/model/'+str(ac).replace('0.','')+'.h5')\n",
    "cm=confusion_matrix(y_test, y_prediction)\n",
    "disp = ConfusionMatrixDisplay(confusion_matrix=cm)\n",
    "disp.plot()\n",
    "plt.show()\n"
   ]
  },
  {
   "cell_type": "code",
   "execution_count": 164,
   "id": "9e0c9a82-ad3a-4089-afe3-597d59243c77",
   "metadata": {
    "tags": []
   },
   "outputs": [
    {
     "name": "stdout",
     "output_type": "stream",
     "text": [
      "{0: 16.43452380952381, 1: 0.7315845257021728, 2: 0.6360285648468095}\n",
      "Epoch 1/50\n",
      "76/76 - 41s - loss: 1.4702 - accuracy: 0.6991 - auc: 0.7835 - val_loss: 1.3277 - val_accuracy: 0.7169 - val_auc: 0.6593\n",
      "Epoch 2/50\n",
      "76/76 - 16s - loss: 1.3858 - accuracy: 0.6982 - auc: 0.7986 - val_loss: 1.2022 - val_accuracy: 0.7771 - val_auc: 0.8059\n",
      "Epoch 3/50\n",
      "76/76 - 17s - loss: 1.3160 - accuracy: 0.7283 - auc: 0.7971 - val_loss: 1.2457 - val_accuracy: 0.7470 - val_auc: 0.7869\n",
      "Epoch 4/50\n",
      "76/76 - 16s - loss: 1.2682 - accuracy: 0.7760 - auc: 0.8093 - val_loss: 1.2011 - val_accuracy: 0.7741 - val_auc: 0.8098\n",
      "Epoch 5/50\n",
      "76/76 - 16s - loss: 1.2732 - accuracy: 0.7415 - auc: 0.8069 - val_loss: 1.1982 - val_accuracy: 0.7741 - val_auc: 0.8219\n",
      "Epoch 6/50\n",
      "76/76 - 17s - loss: 1.2702 - accuracy: 0.7793 - auc: 0.8270 - val_loss: 1.1929 - val_accuracy: 0.7922 - val_auc: 0.8525\n",
      "Epoch 7/50\n",
      "76/76 - 17s - loss: 1.3724 - accuracy: 0.7402 - auc: 0.8433 - val_loss: 1.1481 - val_accuracy: 0.8163 - val_auc: 0.8168\n",
      "Epoch 8/50\n",
      "76/76 - 16s - loss: 1.3132 - accuracy: 0.7238 - auc: 0.8358 - val_loss: 1.3177 - val_accuracy: 0.6777 - val_auc: 0.8262\n",
      "Epoch 9/50\n",
      "76/76 - 16s - loss: 1.2562 - accuracy: 0.7176 - auc: 0.8206 - val_loss: 1.2736 - val_accuracy: 0.7289 - val_auc: 0.8154\n",
      "Epoch 10/50\n",
      "76/76 - 16s - loss: 1.2895 - accuracy: 0.7106 - auc: 0.7707 - val_loss: 1.3012 - val_accuracy: 0.7078 - val_auc: 0.7475\n",
      "\n",
      "Epoch 00010: ReduceLROnPlateau reducing learning rate to 5.399999863584526e-05.\n",
      "Epoch 11/50\n",
      "76/76 - 16s - loss: 1.3014 - accuracy: 0.6982 - auc: 0.7610 - val_loss: 1.3395 - val_accuracy: 0.6807 - val_auc: 0.7590\n",
      "Epoch 12/50\n",
      "76/76 - 17s - loss: 1.2833 - accuracy: 0.6974 - auc: 0.7980 - val_loss: 1.2252 - val_accuracy: 0.7590 - val_auc: 0.8103\n",
      "Epoch 13/50\n",
      "76/76 - 16s - loss: 1.1759 - accuracy: 0.7526 - auc: 0.8125 - val_loss: 1.2756 - val_accuracy: 0.7078 - val_auc: 0.8255\n",
      "Restoring model weights from the end of the best epoch.\n",
      "\n",
      "Epoch 00013: ReduceLROnPlateau reducing learning rate to 4.8600000081933106e-05.\n",
      "Epoch 00013: early stopping\n"
     ]
    }
   ],
   "source": [
    "ft_image=np.array((train_image+fine_image),dtype='float32')\n",
    "ft_label=np.concatenate((to_categorical(train_label,3),label_smoothing(fine_label,3)),axis=0)\n",
    "\n",
    "index = [i for i in range(len(ft_label))]\n",
    "np.random.seed(27)\n",
    "np.random.shuffle(index)\n",
    "x_fine = ft_image[index]\n",
    "y_fine = ft_label[index]\n",
    "X_fine= np.reshape(x_fine,(len(x_fine),pixel,pixel,channels))\n",
    "\n",
    "ftmodel=tf.keras.models.load_model(\"/mnt/louisayu/nfs_share2/embryo/model_weights1/g2/model/7478991596638656.h5\",compile=False)\n",
    "\n",
    "opt = tf.keras.optimizers.Adam(learning_rate=0.00006)\n",
    "ftmodel.compile(optimizer=opt,  loss= ordinal_loss, metrics =['accuracy', tf.keras.metrics.AUC(multi_label = True, name=\"auc\")]) \n",
    "\n",
    "\n",
    "\n",
    "def get_callbacks():\n",
    "    checkpoint_filepath = '/mnt/louisayu/nfs_share2/embryo/model_weights1/g2/ep{epoch:03d}_acc{accuracy:.4f}_val_loss{loss:.4f}.h5'\n",
    "    return [\n",
    "            EarlyStopping(monitor=\"val_accuracy\", mode=\"max\", patience = 6, verbose=1, restore_best_weights=True),\n",
    "            \n",
    "            ReduceLROnPlateau(monitor=\"val_loss\", mode=\"min\", factor=0.9, min_lr=1e-6, patience=3, verbose=1),\n",
    "            \n",
    "            ModelCheckpoint(checkpoint_filepath, monitor=\"val_accuracy\", mode=\"max\", save_weights_only=True) # save_best_only=True)\n",
    "           ]\n",
    "\n",
    "y_integers = np.argmax(y_fine, axis=1)\n",
    "class_weights = class_weight.compute_class_weight(class_weight='balanced', classes=np.unique(y_integers), y=y_integers)\n",
    "d_class_weights = dict(enumerate(class_weights))\n",
    "print(d_class_weights)\n",
    "\n",
    "history=ftmodel.fit(X_fine, y_fine, batch_size=32, epochs=50, verbose=2, shuffle=True,callbacks=get_callbacks(),class_weight=d_class_weights, validation_split=0.12)"
   ]
  },
  {
   "cell_type": "code",
   "execution_count": 181,
   "id": "cff383f1-fb02-49ce-8d9c-62cd0daf1340",
   "metadata": {
    "tags": []
   },
   "outputs": [
    {
     "name": "stdout",
     "output_type": "stream",
     "text": [
      "roc_auc_score: 0.7152840623428859\n",
      "f1_score: 0.7574031971749426\n",
      "accuracy_score: 0.7647058823529411\n",
      "              precision    recall  f1-score   support\n",
      "\n",
      "           0       0.43      0.18      0.25        17\n",
      "           1       0.60      0.72      0.66        68\n",
      "           2       0.87      0.85      0.86       153\n",
      "\n",
      "    accuracy                           0.76       238\n",
      "   macro avg       0.63      0.58      0.59       238\n",
      "weighted avg       0.76      0.76      0.76       238\n",
      "\n"
     ]
    },
    {
     "name": "stderr",
     "output_type": "stream",
     "text": [
      "/mnt/louisayu/nfs_share2/anaconda3/envs/tf/lib/python3.7/site-packages/keras/utils/generic_utils.py:497: CustomMaskWarning: Custom mask layers require a config and must override get_config. When loading, the custom mask layer must be passed to the custom_objects argument.\n",
      "  category=CustomMaskWarning)\n"
     ]
    },
    {
     "data": {
      "image/png": "[encoded data removed]",
      "text/plain": [
       "<Figure size 640x480 with 2 Axes>"
      ]
     },
     "metadata": {},
     "output_type": "display_data"
    }
   ],
   "source": [
    "x_test = np.reshape(test_image,(len(test_label),pixel,pixel,channels))\n",
    "y_test = np.reshape(test_label,(len(test_label),1))\n",
    "\n",
    "\n",
    "y_prediction=ftmodel.predict(x_test)\n",
    "score = roc_auc_score(y_test, y_prediction, multi_class='ovr')\n",
    "print(\"roc_auc_score:\", score)\n",
    "y_prediction = np.argmax(y_prediction, axis=1)\n",
    "print(\"f1_score:\", f1_score(y_test, y_prediction, average='weighted'))   \n",
    "ac=accuracy_score(y_test, y_prediction)\n",
    "print(\"accuracy_score:\", ac)\n",
    "print(classification_report(y_test, y_prediction))\n",
    "\n",
    "ftmodel.save('/mnt/louisayu/nfs_share2/embryo/model_weights1/g2/model/ft_'+str(ac).replace('0.','')+'.h5')\n",
    "cm=confusion_matrix(y_test, y_prediction)\n",
    "disp = ConfusionMatrixDisplay(confusion_matrix=cm)\n",
    "disp.plot()\n",
    "plt.show()\n"
   ]
  },
  {
   "cell_type": "code",
   "execution_count": 206,
   "id": "aeab8ccc-7a3d-4772-ae85-96516448b6f7",
   "metadata": {
    "tags": []
   },
   "outputs": [
    {
     "name": "stdout",
     "output_type": "stream",
     "text": [
      "{0: 16.43452380952381, 1: 0.7315845257021728, 2: 0.6360285648468095}\n",
      "Epoch 1/50\n",
      "76/76 - 41s - loss: 1.3564 - accuracy: 0.7131 - auc: 0.8519 - val_loss: 1.2416 - val_accuracy: 0.7440 - val_auc: 0.8903\n",
      "Epoch 2/50\n",
      "76/76 - 17s - loss: 1.3358 - accuracy: 0.7098 - auc: 0.8764 - val_loss: 1.1649 - val_accuracy: 0.8012 - val_auc: 0.7880\n",
      "Epoch 3/50\n",
      "76/76 - 17s - loss: 1.3558 - accuracy: 0.6867 - auc: 0.8638 - val_loss: 1.2220 - val_accuracy: 0.7711 - val_auc: 0.7815\n",
      "Epoch 4/50\n",
      "76/76 - 17s - loss: 1.3812 - accuracy: 0.6472 - auc: 0.8500 - val_loss: 1.2450 - val_accuracy: 0.7500 - val_auc: 0.8412\n",
      "Epoch 5/50\n",
      "76/76 - 17s - loss: 1.2579 - accuracy: 0.7192 - auc: 0.8877 - val_loss: 1.2331 - val_accuracy: 0.7590 - val_auc: 0.8619\n",
      "\n",
      "Epoch 00005: ReduceLROnPlateau reducing learning rate to 5.399999863584526e-05.\n",
      "Epoch 6/50\n",
      "76/76 - 17s - loss: 1.2873 - accuracy: 0.7633 - auc: 0.8901 - val_loss: 1.1686 - val_accuracy: 0.7982 - val_auc: 0.8780\n",
      "Epoch 7/50\n",
      "76/76 - 17s - loss: 1.2445 - accuracy: 0.7530 - auc: 0.8976 - val_loss: 1.1416 - val_accuracy: 0.8102 - val_auc: 0.8826\n",
      "Epoch 8/50\n",
      "76/76 - 17s - loss: 1.3129 - accuracy: 0.7336 - auc: 0.8831 - val_loss: 1.3467 - val_accuracy: 0.6837 - val_auc: 0.8201\n",
      "Epoch 9/50\n",
      "76/76 - 16s - loss: 1.2907 - accuracy: 0.7044 - auc: 0.8819 - val_loss: 1.4024 - val_accuracy: 0.6386 - val_auc: 0.8262\n",
      "Epoch 10/50\n",
      "76/76 - 17s - loss: 1.3460 - accuracy: 0.6616 - auc: 0.8525 - val_loss: 1.3556 - val_accuracy: 0.6687 - val_auc: 0.7915\n",
      "\n",
      "Epoch 00010: ReduceLROnPlateau reducing learning rate to 4.8600000081933106e-05.\n",
      "Epoch 11/50\n",
      "76/76 - 16s - loss: 1.2457 - accuracy: 0.7048 - auc: 0.8818 - val_loss: 1.3261 - val_accuracy: 0.6777 - val_auc: 0.8842\n",
      "Epoch 12/50\n",
      "76/76 - 16s - loss: 1.2030 - accuracy: 0.7608 - auc: 0.8992 - val_loss: 1.2640 - val_accuracy: 0.7229 - val_auc: 0.9089\n",
      "Epoch 13/50\n",
      "76/76 - 17s - loss: 1.1801 - accuracy: 0.7456 - auc: 0.9117 - val_loss: 1.2939 - val_accuracy: 0.7078 - val_auc: 0.8909\n",
      "Restoring model weights from the end of the best epoch.\n",
      "\n",
      "Epoch 00013: ReduceLROnPlateau reducing learning rate to 4.3739999091485517e-05.\n",
      "Epoch 00013: early stopping\n"
     ]
    }
   ],
   "source": [
    "ft_image=np.array((train_image+fine_image),dtype='float32')\n",
    "ft_label=np.concatenate((to_categorical(train_label,3),to_categorical(fine_label,3)),axis=0)\n",
    "\n",
    "index = [i for i in range(len(ft_label))]\n",
    "np.random.seed(27)\n",
    "np.random.shuffle(index)\n",
    "x_fine = ft_image[index]\n",
    "y_fine = ft_label[index]\n",
    "X_fine= np.reshape(x_fine,(len(x_fine),pixel,pixel,channels))\n",
    "\n",
    "combine_model=tf.keras.models.load_model(\"/mnt/louisayu/nfs_share2/embryo/model_weights1/g2/model/7478991596638656.h5\",compile=False)\n",
    "\n",
    "opt = tf.keras.optimizers.Adam(learning_rate=0.00006)\n",
    "combine_model.compile(optimizer=opt,  loss= ordinal_loss, metrics =['accuracy', tf.keras.metrics.AUC(multi_label = True, name=\"auc\")]) \n",
    "\n",
    "\n",
    "\n",
    "def get_callbacks():\n",
    "    checkpoint_filepath = '/mnt/louisayu/nfs_share2/embryo/model_weights1/g2/ep{epoch:03d}_acc{accuracy:.4f}_val_loss{loss:.4f}.h5'\n",
    "    return [\n",
    "            EarlyStopping(monitor=\"val_accuracy\", mode=\"max\", patience = 6, verbose=1, restore_best_weights=True),\n",
    "            \n",
    "            ReduceLROnPlateau(monitor=\"val_loss\", mode=\"min\", factor=0.9, min_lr=1e-6, patience=3, verbose=1),\n",
    "            \n",
    "            ModelCheckpoint(checkpoint_filepath, monitor=\"val_accuracy\", mode=\"max\", save_weights_only=True) # save_best_only=True)\n",
    "           ]\n",
    "\n",
    "y_integers = np.argmax(y_fine, axis=1)\n",
    "class_weights = class_weight.compute_class_weight(class_weight='balanced', classes=np.unique(y_integers), y=y_integers)\n",
    "d_class_weights = dict(enumerate(class_weights))\n",
    "print(d_class_weights)\n",
    "\n",
    "history=combine_model.fit(X_fine, y_fine, batch_size=32, epochs=50, verbose=2, shuffle=True,callbacks=get_callbacks(),class_weight=d_class_weights, validation_split=0.12)"
   ]
  },
  {
   "cell_type": "code",
   "execution_count": 207,
   "id": "74e0ad02-b0a6-4704-97e0-f9ebcea859ef",
   "metadata": {
    "tags": []
   },
   "outputs": [
    {
     "name": "stdout",
     "output_type": "stream",
     "text": [
      "roc_auc_score: 0.5987759885251235\n",
      "f1_score: 0.6542548685342001\n",
      "accuracy_score: 0.7100840336134454\n",
      "              precision    recall  f1-score   support\n",
      "\n",
      "           0       0.40      0.12      0.18        17\n",
      "           1       0.72      0.26      0.39        68\n",
      "           2       0.72      0.97      0.83       153\n",
      "\n",
      "    accuracy                           0.71       238\n",
      "   macro avg       0.61      0.45      0.46       238\n",
      "weighted avg       0.69      0.71      0.65       238\n",
      "\n"
     ]
    },
    {
     "name": "stderr",
     "output_type": "stream",
     "text": [
      "/mnt/louisayu/nfs_share2/anaconda3/envs/tf/lib/python3.7/site-packages/keras/utils/generic_utils.py:497: CustomMaskWarning: Custom mask layers require a config and must override get_config. When loading, the custom mask layer must be passed to the custom_objects argument.\n",
      "  category=CustomMaskWarning)\n"
     ]
    },
    {
     "data": {
      "image/png": "[encoded data removed]",
      "text/plain": [
       "<Figure size 640x480 with 2 Axes>"
      ]
     },
     "metadata": {},
     "output_type": "display_data"
    }
   ],
   "source": [
    "x_test = np.reshape(test_image,(len(test_label),pixel,pixel,channels))\n",
    "y_test = np.reshape(test_label,(len(test_label),1))\n",
    "\n",
    "\n",
    "y_prediction=combine_model.predict(x_test)\n",
    "score = roc_auc_score(y_test, y_prediction, multi_class='ovr')\n",
    "print(\"roc_auc_score:\", score)\n",
    "y_prediction = np.argmax(y_prediction, axis=1)\n",
    "print(\"f1_score:\", f1_score(y_test, y_prediction, average='weighted'))   \n",
    "ac=accuracy_score(y_test, y_prediction)\n",
    "print(\"accuracy_score:\", ac)\n",
    "print(classification_report(y_test, y_prediction))\n",
    "\n",
    "combine_model.save('/mnt/louisayu/nfs_share2/embryo/model_weights1/g2/model/cm_'+str(ac).replace('0.','')+'.h5')\n",
    "cm=confusion_matrix(y_test, y_prediction)\n",
    "disp = ConfusionMatrixDisplay(confusion_matrix=cm)\n",
    "disp.plot()\n",
    "plt.show()\n"
   ]
  },
  {
   "cell_type": "code",
   "execution_count": null,
   "id": "d0ae977c-7ef1-49be-874a-4eb70887a025",
   "metadata": {
    "tags": []
   },
   "outputs": [],
   "source": [
    "for k in range(test.shape[0]):\n",
    "    filename= \"/mnt/louisayu/nfs_share2/embryo/pubdata/\"+test['Image'][k]\n",
    "      \n",
    "    im = cv2.imread(filename)#,cv2.IMREAD_GRAYSCALE)\n",
    "    im = cv2.resize(im,(pixel,pixel))\n",
    "    im = cv2.normalize(im, None, 0, 255, norm_type=cv2.NORM_MINMAX)\n",
    "    #im = cv2.copyMakeBorder(im, 32, 32, 0, 0, cv2.BORDER_CONSTANT, value=(0,0,0))\n",
    "    img = img_to_array(im)\n",
    "    print(np.argmax(model.predict(np.reshape(img,(1,pixel,pixel,channels)))))\n"
   ]
  },
  {
   "cell_type": "code",
   "execution_count": null,
   "id": "db90abd2-ccbe-49e1-bc4b-6a580e3081c2",
   "metadata": {
    "tags": []
   },
   "outputs": [],
   "source": [
    "for k in range(test.shape[0]):\n",
    "    filename= \"/mnt/louisayu/nfs_share2/embryo/pubdata/\"+test['Image'][k]\n",
    "      \n",
    "    im = cv2.imread(filename)#,cv2.IMREAD_GRAYSCALE)\n",
    "    im = cv2.resize(im,(pixel,pixel))\n",
    "    im = cv2.normalize(im, None, 0, 255, norm_type=cv2.NORM_MINMAX)\n",
    "    #im = cv2.copyMakeBorder(im, 32, 32, 0, 0, cv2.BORDER_CONSTANT, value=(0,0,0))\n",
    "    img = img_to_array(im)\n",
    "    print(np.argmax(ftmodel.predict(np.reshape(img,(1,pixel,pixel,channels)))))\n"
   ]
  },
  {
   "cell_type": "code",
   "execution_count": null,
   "id": "3a562e22-209c-41b0-bc60-28b01527a083",
   "metadata": {
    "tags": []
   },
   "outputs": [],
   "source": [
    "for k in range(test.shape[0]):\n",
    "    filename= \"/mnt/louisayu/nfs_share2/embryo/pubdata/\"+test['Image'][k]\n",
    "      \n",
    "    im = cv2.imread(filename)#,cv2.IMREAD_GRAYSCALE)\n",
    "    im = cv2.resize(im,(pixel,pixel))\n",
    "    im = cv2.normalize(im, None, 0, 255, norm_type=cv2.NORM_MINMAX)\n",
    "    #im = cv2.copyMakeBorder(im, 32, 32, 0, 0, cv2.BORDER_CONSTANT, value=(0,0,0))\n",
    "    img = img_to_array(im)\n",
    "    print(np.argmax(combine_model.predict(np.reshape(img,(1,pixel,pixel,channels)))))\n"
   ]
  },
  {
   "cell_type": "code",
   "execution_count": null,
   "id": "2c1f830c-7c52-461f-bbfc-3d642ec0b800",
   "metadata": {},
   "outputs": [],
   "source": []
  }
 ],
 "metadata": {
  "kernelspec": {
   "display_name": "Python 3 (ipykernel)",
   "language": "python",
   "name": "python3"
  },
  "language_info": {
   "codemirror_mode": {
    "name": "ipython",
    "version": 3
   },
   "file_extension": ".py",
   "mimetype": "text/x-python",
   "name": "python",
   "nbconvert_exporter": "python",
   "pygments_lexer": "ipython3",
   "version": "3.7.12"
  }
 },
 "nbformat": 4,
 "nbformat_minor": 5
}

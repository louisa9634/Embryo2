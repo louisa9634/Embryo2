{
 "cells": [
  {
   "cell_type": "code",
   "execution_count": 3,
   "id": "a7287c22-b9f5-4e1e-a696-1040fd7d5c92",
   "metadata": {
    "tags": []
   },
   "outputs": [
    {
     "name": "stderr",
     "output_type": "stream",
     "text": [
      "/mnt/louisayu/nfs_share2/anaconda3/envs/tf/lib/python3.7/site-packages/tensorflow_addons/utils/ensure_tf_install.py:67: UserWarning: Tensorflow Addons supports using Python ops for all Tensorflow versions above or equal to 2.9.0 and strictly below 2.12.0 (nightly versions are not supported). \n",
      " The versions of TensorFlow you are currently using is 2.6.0 and is not supported. \n",
      "Some things might work, some things might not.\n",
      "If you were to encounter a bug, do not file an issue.\n",
      "If you want to make sure you're using a tested and supported configuration, either change the TensorFlow version or the TensorFlow Addons's version. \n",
      "You can find the compatibility matrix in TensorFlow Addon's readme:\n",
      "https://github.com/tensorflow/addons\n",
      "  UserWarning,\n",
      "2024-03-07 19:50:08.581715: I tensorflow/core/platform/cpu_feature_guard.cc:142] This TensorFlow binary is optimized with oneAPI Deep Neural Network Library (oneDNN) to use the following CPU instructions in performance-critical operations:  AVX2 FMA\n",
      "To enable them in other operations, rebuild TensorFlow with the appropriate compiler flags.\n",
      "2024-03-07 19:50:10.851997: I tensorflow/core/common_runtime/gpu/gpu_device.cc:1510] Created device /job:localhost/replica:0/task:0/device:GPU:0 with 38223 MB memory:  -> device: 0, name: NVIDIA A100-PCIE-40GB, pci bus id: 0000:85:00.0, compute capability: 8.0\n"
     ]
    }
   ],
   "source": [
    "#import tensorflow_addons as tfa\n",
    "#import keras\n",
    "import time\n",
    "#time.sleep(60*60*8)\n",
    "from tensorflow import keras\n",
    "import tensorflow as tf\n",
    "from tensorflow.keras import models, regularizers, layers, optimizers, losses, metrics\n",
    "from tensorflow.keras.layers import Input, Concatenate, Conv2D, Flatten, Dense, Add, Dropout, Flatten, MaxPooling2D\n",
    "from tensorflow.keras.callbacks import ModelCheckpoint, EarlyStopping,ReduceLROnPlateau, TensorBoard\n",
    "from tensorflow.keras.preprocessing.image import load_img, img_to_array, ImageDataGenerator,array_to_img\n",
    "from keras import backend\n",
    "import tensorflow.compat.v1.keras.backend as K\n",
    "\n",
    "import numpy as np\n",
    "from numpy import asarray\n",
    "import pandas as pd\n",
    "import matplotlib.pyplot as plt\n",
    "from sklearn.metrics import f1_score, accuracy_score, confusion_matrix, precision_score, recall_score, classification_report, ConfusionMatrixDisplay, roc_auc_score, matthews_corrcoef,plot_roc_curve,roc_curve,average_precision_score\n",
    "from sklearn.model_selection import train_test_split, KFold\n",
    "from sklearn.utils import class_weight\n",
    "from sklearn.calibration import calibration_curve\n",
    "from sklearn.model_selection import StratifiedKFold\n",
    "\n",
    "from PIL import Image\n",
    "import seaborn as sns\n",
    "sns.set_style(\"darkgrid\")\n",
    "from skimage import data, color, img_as_ubyte ,io\n",
    "from skimage.feature import canny\n",
    "from skimage.transform import hough_ellipse\n",
    "from skimage.draw import ellipse_perimeter\n",
    "from skimage.color import rgb2gray,rgba2rgb\n",
    "import cv2\n",
    "\n",
    "from tqdm import tqdm\n",
    "from scipy.stats import mode\n",
    "import imutils\n",
    "from tensorflow.python.client import device_lib\n",
    "import os\n",
    "import random\n",
    "import urllib.request\n",
    "from vit_keras import vit\n",
    "\n",
    "\n",
    "def decodepreg(i):\n",
    "    if i==7:\n",
    "        return 1\n",
    "    else:\n",
    "        return 0\n",
    "    \n",
    "tf.keras.backend.clear_session()\n",
    "os.environ[\"CUDA_VISIBLE_DEVICES\"] = \"1\" \n",
    "config = tf.compat.v1.ConfigProto()\n",
    "config.gpu_options.allow_growth=True\n",
    "sess = tf.compat.v1.Session(config=config)\n",
    "# tf.compat.v1.set_random_seed(27)"
   ]
  },
  {
   "cell_type": "code",
   "execution_count": 4,
   "id": "84b8174f-df66-4253-9c26-5bdde966dcba",
   "metadata": {
    "tags": []
   },
   "outputs": [
    {
     "name": "stdout",
     "output_type": "stream",
     "text": [
      "1581 819\n"
     ]
    }
   ],
   "source": [
    "preglist=os.listdir('/mnt/louisayu/nfs_share2/embryo/code/em_aug/ACC/')\n",
    "pixel=256\n",
    "channels=3\n",
    "NUM_CLASSES=2\n",
    "train_image=[]\n",
    "train_label=[]\n",
    "\n",
    "for f in preglist:\n",
    "    p=pd.read_excel(r'/mnt/louisayu/nfs_share2/embryo/code/em_aug/ACC/'+f, engine='openpyxl')\n",
    "    for j in range(p.shape[0]):\n",
    "        filename= \"/mnt/louisayu/nfs_share2/embryo/preprocess_rec_1018/\"+p['image'][j]\n",
    "        if not p['LBOutc1'][j]==9:\n",
    "            try:\n",
    "                im = cv2.imread(filename)#,cv2.IMREAD_GRAYSCALE)\n",
    "                im = cv2.resize(im,(pixel,pixel))\n",
    "                im = cv2.normalize(im, None, 0, 255, norm_type=cv2.NORM_MINMAX)\n",
    "                #im = cv2.copyMakeBorder(im, 32, 32, 0, 0, cv2.BORDER_CONSTANT, value=(0,0,0))\n",
    "                img = img_to_array(im)\n",
    "                train_image.append(img)\n",
    "                train_label.append(decodepreg(p['LBOutc1'][j]))\n",
    "\n",
    "            except:\n",
    "                print(filename)\n",
    "\n",
    "a0= [x for x, y in list(enumerate(train_label)) if y ==0]\n",
    "a1= [x for x, y in list(enumerate(train_label)) if y ==1]\n",
    "print(len(a0),len(a1))\n",
    "xxtrain = np.array(train_image,dtype='float32')\n",
    "yytrain = np.array(train_label)\n",
    "\n",
    "index = [i for i in range(len(xxtrain))]\n",
    "np.random.seed(27)\n",
    "np.random.shuffle(index)\n",
    "xtrain = xxtrain[index]\n",
    "ytrain = yytrain[index]"
   ]
  },
  {
   "cell_type": "code",
   "execution_count": 5,
   "id": "2853b776-f8b8-4456-91e3-e61aaa593ae9",
   "metadata": {
    "tags": []
   },
   "outputs": [
    {
     "name": "stderr",
     "output_type": "stream",
     "text": [
      " 98%|███████████████████████████████████████████████████▏| 468/476 [00:12<00:00, 47.71it/s][ WARN:0@71.037] global loadsave.cpp:248 findDecoder imread_('/mnt/louisayu/nfs_share2/embryo/preprocess_rec_1018/20220501 LKM.jpg'): can't open/read file: check file path/integrity\n",
      "100%|████████████████████████████████████████████████████| 476/476 [00:12<00:00, 38.87it/s]\n"
     ]
    },
    {
     "name": "stdout",
     "output_type": "stream",
     "text": [
      "/mnt/louisayu/nfs_share2/embryo/preprocess_rec_1018/20220501 LKM.jpg\n",
      "319 152\n",
      "StratifiedKFold(n_splits=10, random_state=27, shuffle=True)\n"
     ]
    }
   ],
   "source": [
    "freset= pd.read_csv('/mnt/louisayu/nfs_share2/embryo/code/em_aug/matched_fre_correct.csv')  \n",
    "pixel=256\n",
    "channels=3\n",
    "NUM_CLASSES=2\n",
    "fine_image=[]\n",
    "fine_label=[]\n",
    "\n",
    "\n",
    "for i in tqdm(range(freset.shape[0])):\n",
    "    filename= \"/mnt/louisayu/nfs_share2/embryo/preprocess_rec_1018/\"+freset['image'][i]\n",
    "    if not freset['LBOutc1'][i]==9:\n",
    "        try:\n",
    "            im = cv2.imread(filename)#,cv2.IMREAD_GRAYSCALE)\n",
    "            im = cv2.resize(im,(pixel,pixel))\n",
    "            im = cv2.normalize(im, None, 0, 255, norm_type=cv2.NORM_MINMAX)\n",
    "            #im = cv2.copyMakeBorder(im, 32, 32, 0, 0, cv2.BORDER_CONSTANT, value=(0,0,0))\n",
    "            img = img_to_array(im)\n",
    "            fine_image.append(img)\n",
    "            fine_label.append(decodepreg(freset['LBOutc1'][i]))\n",
    "\n",
    "        except:\n",
    "            print(filename)\n",
    "\n",
    "a0= [x for x, y in list(enumerate(fine_label)) if y ==0]\n",
    "a1= [x for x, y in list(enumerate(fine_label)) if y ==1]\n",
    "print(len(a0),len(a1))\n",
    "xxfine = np.array(fine_image,dtype='float32')\n",
    "yyfine = np.array(fine_label)\n",
    "\n",
    "index = [i for i in range(len(xxfine))]\n",
    "np.random.seed(27)\n",
    "np.random.shuffle(index)\n",
    "xfine = xxfine[index]\n",
    "yfine = yyfine[index]\n",
    "\n",
    "RANDOM_SEED = 27\n",
    "random.seed(RANDOM_SEED)\n",
    "np.random.seed(RANDOM_SEED)\n",
    "tf.random.set_seed(RANDOM_SEED)\n",
    "sfolder=StratifiedKFold(n_splits=10,shuffle=True,random_state=27)\n",
    "print(sfolder)\n",
    "\n",
    "testindex=[test for train, test in sfolder.split(xfine,yfine)]\n",
    "trainindex=[train for train, test in sfolder.split(xfine,yfine)]\n"
   ]
  },
  {
   "cell_type": "code",
   "execution_count": 6,
   "id": "6164f110-2ca8-4cc3-9e92-eef31709b62d",
   "metadata": {
    "tags": []
   },
   "outputs": [],
   "source": [
    "def get_callbacks():\n",
    "    checkpoint_filepath = '/mnt/louisayu/nfs_share2/embryo/model_weights/lb_fre/ep{epoch:03d}_acc{accuracy:.4f}_val_loss{loss:.4f}.h5'\n",
    "    return [\n",
    "            EarlyStopping(monitor=\"val_loss\", mode=\"min\", patience = 13, verbose=1, restore_best_weights=True),\n",
    "            \n",
    "            ReduceLROnPlateau(monitor=\"val_aucc\", mode=\"max\", factor=0.6, min_lr=1e-6, patience=5, verbose=1),\n",
    "            \n",
    "            ModelCheckpoint(checkpoint_filepath, monitor=\"val_aucc\", mode=\"max\", save_weights_only=True, save_best_only=False)\n",
    "           ]\n",
    "\n",
    "def vitmodel():\n",
    "    vit_model = vit.vit_b16(\n",
    "        image_size = 256,\n",
    "        activation = 'linear',\n",
    "        pretrained = True,\n",
    "        include_top = True,\n",
    "        pretrained_top =True,)\n",
    "\n",
    "\n",
    "    input_tensor = layers.Input(shape=(pixel,pixel,channels),name='vitinput')\n",
    "    i1=layers.RandomRotation(factor=(-0.4, -0.2))(input_tensor)\n",
    "    # i2=layers.RandomZoom(height_factor=-0.1, width_factor=-0.1)(i1)\n",
    "    i3=layers.RandomFlip(mode=\"horizontal_and_vertical\")(i1)\n",
    "    i4=layers.BatchNormalization()(i3)\n",
    "    conv_base = vit_model(i4)\n",
    "    o1=layers.Dense(256, activation='elu',name='vitdense1')(conv_base)\n",
    "    o2=layers.Dropout(0.4)(o1)\n",
    "    o3=layers.Dense(64,activation='tanh')(o2)\n",
    "    output_tensor=layers.Dense(1,activation='sigmoid')(o3)\n",
    "    model=tf.keras.models.Model(input_tensor,output_tensor)\n",
    "    return model"
   ]
  },
  {
   "cell_type": "code",
   "execution_count": 5,
   "id": "00874bba-6ea4-417e-ac64-cc1bcc50f336",
   "metadata": {
    "tags": []
   },
   "outputs": [
    {
     "name": "stdout",
     "output_type": "stream",
     "text": [
      "{0: 0.7590132827324478, 1: 1.465201465201465}\n"
     ]
    },
    {
     "name": "stderr",
     "output_type": "stream",
     "text": [
      "2024-03-06 22:21:12.270341: I tensorflow/core/common_runtime/gpu/gpu_device.cc:1510] Created device /job:localhost/replica:0/task:0/device:GPU:0 with 19889 MB memory:  -> device: 0, name: NVIDIA A100-PCIE-40GB, pci bus id: 0000:85:00.0, compute capability: 8.0\n",
      "/mnt/louisayu/nfs_share2/anaconda3/envs/tf/lib/python3.7/site-packages/vit_keras/utils.py:83: UserWarning: Resizing position embeddings from 24, 24 to 16, 16\n",
      "  UserWarning,\n",
      "2024-03-06 22:21:15.702389: W tensorflow/core/framework/cpu_allocator_impl.cc:80] Allocation of 1660944384 exceeds 10% of free system memory.\n",
      "2024-03-06 22:21:16.839728: W tensorflow/core/framework/cpu_allocator_impl.cc:80] Allocation of 1660944384 exceeds 10% of free system memory.\n",
      "2024-03-06 22:21:17.480705: I tensorflow/compiler/mlir/mlir_graph_optimization_pass.cc:185] None of the MLIR Optimization Passes are enabled (registered 2)\n"
     ]
    },
    {
     "name": "stdout",
     "output_type": "stream",
     "text": [
      "Epoch 1/80\n"
     ]
    },
    {
     "name": "stderr",
     "output_type": "stream",
     "text": [
      "2024-03-06 22:21:28.429479: I tensorflow/stream_executor/cuda/cuda_dnn.cc:369] Loaded cuDNN version 8100\n",
      "2024-03-06 22:21:30.762632: I tensorflow/core/platform/default/subprocess.cc:304] Start cannot spawn child process: No such file or directory\n",
      "2024-03-06 22:21:30.763682: I tensorflow/core/platform/default/subprocess.cc:304] Start cannot spawn child process: No such file or directory\n",
      "2024-03-06 22:21:30.763699: W tensorflow/stream_executor/gpu/asm_compiler.cc:77] Couldn't get ptxas version string: Internal: Couldn't invoke ptxas --version\n",
      "2024-03-06 22:21:30.764559: I tensorflow/core/platform/default/subprocess.cc:304] Start cannot spawn child process: No such file or directory\n",
      "2024-03-06 22:21:30.764613: W tensorflow/stream_executor/gpu/redzone_allocator.cc:314] Internal: Failed to launch ptxas\n",
      "Relying on driver to perform ptx compilation. \n",
      "Modify $PATH to customize ptxas location.\n",
      "This message will be only logged once.\n",
      "2024-03-06 22:21:34.413709: I tensorflow/stream_executor/cuda/cuda_blas.cc:1760] TensorFloat-32 will be used for the matrix multiplication. This will only be logged once.\n"
     ]
    },
    {
     "name": "stdout",
     "output_type": "stream",
     "text": [
      "66/66 - 38s - loss: 0.7168 - accuracy: 0.5445 - aucc: 0.5615 - val_loss: 0.6610 - val_accuracy: 0.5799 - val_aucc: 0.6398\n",
      "Epoch 2/80\n",
      "66/66 - 23s - loss: 0.6759 - accuracy: 0.5781 - aucc: 0.6252 - val_loss: 0.6805 - val_accuracy: 0.5590 - val_aucc: 0.6290\n",
      "Epoch 3/80\n",
      "66/66 - 23s - loss: 0.6720 - accuracy: 0.5810 - aucc: 0.6314 - val_loss: 0.6897 - val_accuracy: 0.5347 - val_aucc: 0.6438\n",
      "Epoch 4/80\n",
      "66/66 - 23s - loss: 0.6691 - accuracy: 0.5829 - aucc: 0.6324 - val_loss: 0.6086 - val_accuracy: 0.6076 - val_aucc: 0.6561\n",
      "Epoch 5/80\n",
      "66/66 - 14s - loss: 0.6650 - accuracy: 0.5914 - aucc: 0.6383 - val_loss: 0.6626 - val_accuracy: 0.5799 - val_aucc: 0.6659\n",
      "Epoch 6/80\n",
      "66/66 - 21s - loss: 0.6484 - accuracy: 0.6070 - aucc: 0.6712 - val_loss: 0.6500 - val_accuracy: 0.6146 - val_aucc: 0.6805\n",
      "Epoch 7/80\n",
      "66/66 - 23s - loss: 0.6446 - accuracy: 0.5980 - aucc: 0.6665 - val_loss: 0.6434 - val_accuracy: 0.5833 - val_aucc: 0.6727\n",
      "Epoch 8/80\n",
      "66/66 - 22s - loss: 0.6312 - accuracy: 0.6293 - aucc: 0.6924 - val_loss: 0.6614 - val_accuracy: 0.6076 - val_aucc: 0.6714\n",
      "Epoch 9/80\n",
      "66/66 - 23s - loss: 0.6275 - accuracy: 0.6146 - aucc: 0.6985 - val_loss: 0.6279 - val_accuracy: 0.5903 - val_aucc: 0.6750\n",
      "Epoch 10/80\n",
      "66/66 - 23s - loss: 0.6220 - accuracy: 0.6326 - aucc: 0.7028 - val_loss: 0.6157 - val_accuracy: 0.6424 - val_aucc: 0.6951\n",
      "Epoch 11/80\n",
      "66/66 - 15s - loss: 0.6137 - accuracy: 0.6501 - aucc: 0.7222 - val_loss: 0.6425 - val_accuracy: 0.6389 - val_aucc: 0.6962\n",
      "Epoch 12/80\n",
      "66/66 - 21s - loss: 0.6044 - accuracy: 0.6506 - aucc: 0.7284 - val_loss: 0.6706 - val_accuracy: 0.6111 - val_aucc: 0.6919\n",
      "Epoch 13/80\n",
      "66/66 - 23s - loss: 0.5920 - accuracy: 0.6473 - aucc: 0.7326 - val_loss: 0.6660 - val_accuracy: 0.5972 - val_aucc: 0.6928\n",
      "Epoch 14/80\n",
      "66/66 - 22s - loss: 0.5863 - accuracy: 0.6615 - aucc: 0.7505 - val_loss: 0.6615 - val_accuracy: 0.5868 - val_aucc: 0.6953\n",
      "Epoch 15/80\n",
      "66/66 - 23s - loss: 0.5660 - accuracy: 0.6742 - aucc: 0.7631 - val_loss: 0.6679 - val_accuracy: 0.5938 - val_aucc: 0.6842\n",
      "Epoch 16/80\n",
      "66/66 - 23s - loss: 0.5700 - accuracy: 0.6761 - aucc: 0.7668 - val_loss: 0.6398 - val_accuracy: 0.6493 - val_aucc: 0.7134\n",
      "Epoch 17/80\n",
      "66/66 - 17s - loss: 0.5492 - accuracy: 0.7050 - aucc: 0.7891 - val_loss: 0.6502 - val_accuracy: 0.6181 - val_aucc: 0.6978\n",
      "Restoring model weights from the end of the best epoch.\n",
      "Epoch 00017: early stopping\n",
      "0.5450008249463785\n"
     ]
    }
   ],
   "source": [
    "X_train = np.reshape(xtrain,(len(xtrain),pixel,pixel,channels))\n",
    "Y_train = ytrain\n",
    "\n",
    "class_weights = class_weight.compute_class_weight(class_weight='balanced', classes=np.unique(Y_train), y=Y_train)\n",
    "d_class_weights = dict(enumerate(class_weights))\n",
    "print(d_class_weights)\n",
    "\n",
    "\n",
    "model=vitmodel()\n",
    "opt = tf.keras.optimizers.Adam(learning_rate=0.00003)\n",
    "model.compile(optimizer=opt,  loss=tf.keras.losses.binary_crossentropy, metrics =['accuracy', tf.keras.metrics.AUC(multi_label = False, name='aucc')]) \n",
    "history=model.fit(x=X_train, y= Y_train, validation_split=0.12, batch_size= 32, epochs=80, verbose=2, shuffle=True ,callbacks=get_callbacks(), class_weight=d_class_weights)\n",
    "y_prediction=model.predict(np.reshape(xfine,(len(xfine),pixel,pixel,channels)))\n",
    "auc = roc_auc_score(yfine, y_prediction)\n",
    "print(auc)\n",
    "newdir='/mnt/louisayu/nfs_share2/embryo/model_weights/lb_fre/'+str(auc).replace('0.','')\n",
    "os.mkdir('/mnt/louisayu/nfs_share2/embryo/model_weights/lb_fre/'+str(auc).replace('0.',''))\n",
    "model.save('/mnt/louisayu/nfs_share2/embryo/model_weights/lb_fre/'+str(auc).replace('0.','')+'/'+str(auc).replace('0.','frebasemodel_')+'.h5')\n",
    "for i in range(0,10):\n",
    "    os.mkdir('/mnt/louisayu/nfs_share2/embryo/model_weights/lb_fre/'+str(auc).replace('0.','')+'/'+str(i))"
   ]
  },
  {
   "cell_type": "code",
   "execution_count": 7,
   "id": "3397df68-3909-4a15-89cf-f3e7e49f7f12",
   "metadata": {
    "tags": []
   },
   "outputs": [],
   "source": [
    "# auc=0.5450008249463785\n",
    "# newdir='/mnt/louisayu/nfs_share2/embryo/model_weights/lb_fre/'+str(auc).replace('0.','')\n",
    "\n",
    "# bp=[]\n",
    "# class_weights = class_weight.compute_class_weight(class_weight='balanced', classes=np.unique(yfine), y=yfine)\n",
    "# d_class_weights = dict(enumerate(class_weights))\n",
    "# print(d_class_weights)\n",
    "# model=tf.keras.models.load_model('/mnt/louisayu/nfs_share2/embryo/model_weights/lb_fre/'+str(auc).replace('0.','')+'/'+str(auc).replace('0.','frebasemodel_')+'.h5')\n",
    "# for i in range(0,10):\n",
    "#     ac=roc_auc_score(yfine[testindex[i]], model.predict(xfine[testindex[i]]))\n",
    "#     print(ac)\n",
    "#     bp.append(ac)"
   ]
  },
  {
   "cell_type": "code",
   "execution_count": null,
   "id": "a38bda5d-f836-4773-8369-8a1c49c5bb49",
   "metadata": {
    "tags": []
   },
   "outputs": [],
   "source": [
    "for foldi in range(0,10):\n",
    "    def get_callbacks():\n",
    "        checkpoint_filepath = '/mnt/louisayu/nfs_share2/embryo/model_weights/lb_fre/finetuningmodel/ep{epoch:03d}_acc{accuracy:.4f}_val_loss{loss:.4f}.h5'\n",
    "        return [\n",
    "                EarlyStopping(monitor=\"accuracy\", mode=\"max\", patience = 8, verbose=1, restore_best_weights=True),\n",
    "\n",
    "                ReduceLROnPlateau(monitor=\"accuracy\", mode=\"max\", factor=0.6, min_lr=1e-6, patience=4, verbose=1),\n",
    "\n",
    "                ModelCheckpoint(checkpoint_filepath, monitor=\"accuracy\", mode=\"max\", save_weights_only=True, save_best_only=False)]\n",
    "\n",
    "    X_fine = np.reshape(xfine[trainindex[foldi]],(len(xfine[trainindex[foldi]]),pixel,pixel,channels))\n",
    "    Y_fine = yfine[trainindex[foldi]]\n",
    "    model=tf.keras.models.load_model(newdir+'/'+str(auc).replace('0.','frebasemodel_')+'.h5',compile=False)\n",
    "    opt = tf.keras.optimizers.Adam(learning_rate=0.0002)\n",
    "    model.compile(optimizer=opt,  loss=tf.keras.losses.binary_crossentropy, metrics =['accuracy', tf.keras.metrics.AUC(multi_label = False, name='aucc')]) \n",
    "    history=model.fit(x=X_fine, y= Y_fine, batch_size= 32, epochs=80, verbose=2, shuffle=True ,callbacks=get_callbacks(), class_weight=d_class_weights)\n",
    "    y_prediction=model.predict(xfine[testindex[foldi]])\n",
    "    fineauc = roc_auc_score(yfine[testindex[foldi]], y_prediction)\n",
    "    print(\"mary roc_auc_score:\",fineauc)\n",
    "    pr= average_precision_score(yfine[testindex[foldi]], y_prediction)\n",
    "    print(\"mary pr_auc_score :\",pr)\n",
    "    model.save(newdir+'/'+str(foldi)+'/'+str(fineauc).replace('0.','')+'.h5')\n",
    "\n"
   ]
  },
  {
   "cell_type": "code",
   "execution_count": 51,
   "id": "f7584010-8c88-4355-8f83-9883dfbe8987",
   "metadata": {
    "tags": []
   },
   "outputs": [
    {
     "data": {
      "text/plain": [
       "0.7277091733870968"
      ]
     },
     "execution_count": 51,
     "metadata": {},
     "output_type": "execute_result"
    }
   ],
   "source": [
    "tenfold=[]\n",
    "\n",
    "for foldi in range(0,10):\n",
    "\n",
    "    transform= [float((str('0.')+str(foldauc)).replace('.h5','')) for foldauc in os.listdir(newdir+'/'+str(foldi)+'/')]\n",
    "    tenfold.append(transform)\n",
    "    \n",
    "meanauc =0 if len(tenfold) == 0 else sum(tenfold)/len(tenfold)\n",
    "meanauc"
   ]
  },
  {
   "cell_type": "code",
   "execution_count": 52,
   "id": "d4b64ee1-0196-4a7e-9053-053046c60d53",
   "metadata": {},
   "outputs": [
    {
     "name": "stdout",
     "output_type": "stream",
     "text": [
      "/mnt/louisayu/nfs_share2/embryo/model_weights/lb_fre/5450008249463785/0/72265625.h5\n",
      "/mnt/louisayu/nfs_share2/embryo/model_weights/lb_fre/5450008249463785/1/7250000000000001.h5\n",
      "/mnt/louisayu/nfs_share2/embryo/model_weights/lb_fre/5450008249463785/2/7229166666666667.h5\n",
      "/mnt/louisayu/nfs_share2/embryo/model_weights/lb_fre/5450008249463785/3/7166666666666668.h5\n",
      "/mnt/louisayu/nfs_share2/embryo/model_weights/lb_fre/5450008249463785/4/775.h5\n",
      "/mnt/louisayu/nfs_share2/embryo/model_weights/lb_fre/5450008249463785/5/6395833333333333.h5\n",
      "/mnt/louisayu/nfs_share2/embryo/model_weights/lb_fre/5450008249463785/6/7145833333333333.h5\n",
      "/mnt/louisayu/nfs_share2/embryo/model_weights/lb_fre/5450008249463785/7/7458333333333333.h5\n",
      "/mnt/louisayu/nfs_share2/embryo/model_weights/lb_fre/5450008249463785/8/6958333333333333.h5\n",
      "/mnt/louisayu/nfs_share2/embryo/model_weights/lb_fre/5450008249463785/9/8044354838709677.h5\n",
      "Threshold value is: 0.063782975\n"
     ]
    },
    {
     "data": {
      "image/png": "[encoded data removed]",
      "text/plain": [
       "<Figure size 640x480 with 1 Axes>"
      ]
     },
     "metadata": {},
     "output_type": "display_data"
    }
   ],
   "source": [
    "def plot_roc_curve(fpr, tpr,score):\n",
    "    plt.plot(fpr, tpr, color='orange', label='ROC')\n",
    "    plt.plot([0, 1], [0, 1], color='darkblue', linestyle='--')\n",
    "    plt.xlabel('False Positive Rate')\n",
    "    plt.ylabel('True Positive Rate')\n",
    "    plt.title('Receiver Operating Characteristic (ROC) Curve: '+str(score))\n",
    "    plt.legend()\n",
    "    plt.show()\n",
    "    \n",
    "true=[]\n",
    "pred=[]\n",
    "pred_acc=[]\n",
    "for foldi in range(0,10):\n",
    "        weightsdir=newdir+'/'+str(foldi)+'/'+str(tenfold[foldi]).replace('0.','')+'.h5'\n",
    "        print(weightsdir)\n",
    "        X_test = np.reshape(xfine[testindex[foldi]],(len(xfine[testindex[foldi]]),pixel,pixel,channels))\n",
    "        model=tf.keras.models.load_model(weightsdir)\n",
    "        true.extend(yfine[testindex[foldi]])\n",
    "        pred.extend(model.predict(X_test)[:,0])\n",
    "        pred_acc.append(accuracy_score(yfine[testindex[foldi]],np.where(model.predict(X_test)[:,0] >= 0.5, 1, 0)))\n",
    "\n",
    "\n",
    "score=roc_auc_score(true, pred)\n",
    "fpr, tpr, thresholds = roc_curve(true, pred)\n",
    "optimal_idx = np.argmax(tpr - fpr)\n",
    "threshold = thresholds[optimal_idx]\n",
    "print(\"Threshold value is:\", threshold)\n",
    "plot_roc_curve(fpr, tpr,score)"
   ]
  },
  {
   "cell_type": "code",
   "execution_count": 53,
   "id": "d438808e-9b52-4e17-bfb4-2e121f467e5d",
   "metadata": {
    "tags": []
   },
   "outputs": [
    {
     "name": "stdout",
     "output_type": "stream",
     "text": [
      "[0.7291666666666666, 0.7021276595744681, 0.7021276595744681, 0.7021276595744681, 0.7659574468085106, 0.6382978723404256, 0.6595744680851063, 0.6595744680851063, 0.6382978723404256, 0.723404255319149] 0.6920656028368795\n"
     ]
    }
   ],
   "source": [
    "print(pred_acc,np.mean(pred_acc))"
   ]
  },
  {
   "cell_type": "code",
   "execution_count": 54,
   "id": "dd42e657-bb1d-4179-9a2c-9048041d7b01",
   "metadata": {
    "tags": []
   },
   "outputs": [
    {
     "name": "stdout",
     "output_type": "stream",
     "text": [
      "[0, 1, 1, 0, 0, 0, 0, 0, 0, 1, 0, 0, 0, 0, 1, 1, 0, 1, 1, 1, 1, 0, 1, 1, 0, 1, 0, 0, 0, 0, 1, 1, 1, 0, 1, 0, 0, 0, 0, 0, 0, 0, 0, 0, 0, 0, 0, 0, 0, 1, 1, 1, 0, 1, 0, 0, 0, 0, 0, 0, 1, 0, 0, 0, 1, 0, 1, 1, 0, 0, 0, 0, 0, 0, 1, 0, 1, 0, 0, 0, 0, 0, 0, 0, 1, 0, 0, 1, 1, 0, 1, 1, 0, 0, 0, 1, 0, 0, 0, 0, 0, 1, 1, 0, 0, 0, 0, 0, 0, 1, 1, 1, 0, 0, 1, 1, 0, 1, 1, 0, 0, 0, 0, 0, 1, 1, 0, 0, 1, 0, 1, 0, 0, 0, 0, 1, 0, 0, 0, 0, 0, 0, 0, 1, 0, 0, 0, 0, 1, 0, 0, 0, 1, 1, 0, 1, 0, 1, 1, 1, 0, 0, 0, 0, 1, 1, 0, 1, 0, 0, 1, 0, 0, 0, 0, 0, 0, 0, 0, 1, 0, 0, 1, 0, 0, 0, 0, 0, 1, 1, 0, 1, 0, 0, 0, 1, 0, 0, 1, 0, 0, 0, 0, 0, 1, 1, 0, 1, 1, 1, 0, 1, 0, 0, 0, 0, 1, 0, 0, 0, 0, 1, 0, 0, 0, 0, 0, 0, 1, 0, 1, 0, 0, 1, 0, 0, 1, 0, 1, 0, 0, 1, 0, 0, 0, 0, 0, 1, 0, 0, 1, 0, 0, 0, 1, 1, 1, 1, 1, 0, 0, 1, 0, 1, 1, 0, 0, 0, 0, 0, 0, 0, 0, 1, 0, 1, 0, 0, 0, 0, 0, 0, 0, 0, 0, 1, 0, 1, 1, 1, 0, 0, 0, 1, 0, 0, 0, 0, 1, 1, 0, 0, 0, 0, 0, 1, 1, 0, 1, 0, 1, 1, 0, 0, 1, 0, 0, 0, 1, 0, 0, 0, 0, 0, 0, 0, 0, 0, 0, 1, 0, 0, 1, 0, 0, 0, 1, 1, 0, 0, 0, 0, 0, 0, 0, 0, 0, 1, 0, 1, 1, 0, 0, 0, 0, 0, 0, 0, 1, 0, 0, 1, 1, 0, 1, 0, 0, 1, 1, 0, 1, 0, 1, 0, 1, 0, 0, 0, 0, 1, 0, 0, 1, 0, 0, 1, 0, 1, 1, 1, 0, 0, 0, 0, 1, 0, 1, 0, 0, 1, 1, 0, 0, 0, 0, 1, 0, 0, 0, 1, 1, 0, 0, 0, 0, 0, 1, 0, 0, 0, 0, 0, 0, 1, 0, 0, 0, 1, 1, 1, 1, 0, 1, 0, 1, 0, 1, 0, 1, 1, 0, 0, 1, 0, 0, 0, 0, 0, 0, 1, 0, 1, 0, 0, 0, 1, 0, 1, 1, 0, 0, 0, 0, 0, 0, 0, 0, 1, 0, 0, 0] [0.27473092, 0.5007784, 0.48068708, 0.45431522, 0.2575382, 0.43180642, 0.47133002, 0.45734823, 0.33636144, 0.35499445, 0.31410956, 0.26147678, 0.45528373, 0.4087539, 0.46092266, 0.43114775, 0.43964925, 0.3444339, 0.34222487, 0.4620369, 0.52962404, 0.27809635, 0.5120321, 0.395042, 0.3645262, 0.48612592, 0.3450916, 0.41956475, 0.32839286, 0.35707703, 0.5019569, 0.43382463, 0.41025192, 0.46988764, 0.47280347, 0.32451734, 0.47924912, 0.46302217, 0.47494233, 0.47773418, 0.30027616, 0.4836403, 0.36251423, 0.5000374, 0.2631915, 0.42185658, 0.25804308, 0.3746945, 0.028810319, 0.00287329, 0.9443502, 0.7783877, 0.80823195, 0.461696, 0.9900968, 0.21224692, 0.34736285, 0.013467255, 0.023530643, 0.028690869, 0.07657243, 0.0033007415, 0.009893985, 0.2501432, 0.91112477, 0.0023164481, 0.9757027, 0.9746732, 0.36198816, 0.352657, 0.7810294, 0.91889346, 0.66835266, 0.15173225, 0.5483169, 0.5129777, 0.9638307, 0.16677326, 0.9226237, 0.03973733, 0.19478507, 0.07591315, 0.15697965, 0.0019515211, 0.96056575, 0.19520333, 0.11786827, 0.41728038, 0.1276444, 0.73970777, 0.5383619, 0.031020375, 0.012066244, 0.0020202373, 0.120814115, 0.004504057, 0.06746384, 0.0063460977, 0.005026515, 0.39239025, 0.0024262962, 0.27053472, 0.9075839, 0.0072205984, 0.0019896794, 0.45125556, 0.92126673, 0.0018181544, 0.98289895, 0.98932916, 0.19344886, 0.966659, 0.010184871, 0.0020732188, 0.95208764, 0.07469107, 0.006093847, 0.030002696, 0.9942812, 0.027903754, 0.1486288, 0.0023366539, 0.04055239, 0.007905882, 0.1908426, 0.008758476, 0.031494375, 0.98745036, 0.98681265, 0.004696548, 0.15811545, 0.42634615, 0.0068922224, 0.016787969, 0.8938823, 0.0030082145, 0.010126677, 0.95216006, 0.094953716, 0.0030116634, 0.006394631, 0.001347477, 0.3004215, 0.99748564, 0.050066717, 0.0018517422, 0.03127388, 0.009557982, 0.50917715, 0.04168807, 0.7886567, 0.029508406, 0.9194499, 0.99666935, 0.5439972, 0.0008373556, 0.0011551451, 0.92781776, 0.12478924, 0.9950112, 0.0027293921, 0.005939628, 0.0015764935, 0.0012829058, 0.0025822523, 0.0009988025, 0.96743506, 0.9764558, 0.0015147518, 0.19555247, 0.9770881, 0.8056215, 0.18233813, 0.0015918283, 0.83408856, 0.9976017, 0.0037948415, 0.0010150055, 0.0038860654, 0.99591076, 0.99701154, 0.9792565, 0.99724424, 0.03775853, 0.0009320328, 0.005682137, 0.8734201, 0.99397236, 0.9976393, 0.8093951, 0.0019786544, 0.9668178, 0.046270147, 0.59492195, 0.07663832, 0.32604805, 0.7533061, 0.38814563, 0.009728476, 0.017363252, 0.31461537, 0.019834587, 0.010476701, 0.8204271, 0.85445136, 0.71877956, 0.24008141, 0.6367721, 0.8115321, 0.009191643, 0.022580381, 0.84003896, 0.0009944353, 0.0012971213, 0.042247213, 0.010281001, 0.8879853, 0.13596287, 0.060037248, 0.025282778, 0.8061847, 0.8483048, 0.016056953, 0.0011924533, 0.025666555, 0.61696887, 0.0009811065, 0.0033317837, 0.07086177, 0.012781948, 0.7944656, 0.0026164574, 0.54661053, 0.001019146, 0.037013315, 0.015642827, 0.034411363, 0.0012420932, 0.06672651, 0.0027827718, 0.0012345138, 0.9630727, 0.28953156, 0.155819, 0.15448426, 0.00089070614, 0.019359201, 0.001084231, 0.98376656, 0.0012757787, 0.0019773422, 0.0040426133, 0.042031523, 0.0014144974, 0.9800617, 0.01222934, 0.37525383, 0.3125258, 0.001620569, 0.006892186, 0.96429074, 0.063782975, 0.14794941, 0.09065723, 0.04154344, 0.038893886, 0.0012359198, 0.00089795474, 0.0062910793, 0.0010438449, 0.0015731009, 0.18824007, 0.0015301418, 0.9176385, 0.08849662, 0.9109572, 0.003919944, 0.0065070433, 0.0012700864, 0.96116126, 0.73939145, 0.9905901, 0.5306737, 0.0015711279, 0.002752814, 0.9363409, 0.98664373, 0.99158734, 0.0074806022, 0.18218477, 0.0021879808, 0.0014415777, 0.025734063, 0.9955456, 0.0017618019, 0.009428391, 0.015179259, 0.0037536747, 0.5504129, 0.56177306, 0.0011216322, 0.7981496, 0.05210063, 0.003018671, 0.0039376174, 0.0051597552, 0.04159216, 0.31249407, 0.12057791, 0.8728148, 0.49833667, 0.43303937, 0.9963871, 0.0019973286, 0.0023090094, 0.026977407, 0.012975222, 0.0014890812, 0.24601045, 0.021474482, 0.004291679, 0.2198581, 0.020754682, 0.97455513, 0.99467623, 0.001883609, 0.0026643025, 0.0020935435, 0.020361932, 0.004395536, 0.94823086, 0.24594654, 0.012740538, 0.0022966277, 0.0026167522, 0.0021895512, 0.40352592, 0.94886714, 0.0019268595, 0.0036040137, 0.60422045, 0.005966063, 0.0050758184, 0.0018425953, 0.0023116244, 0.5774473, 0.98524255, 0.0718066, 0.012497148, 0.9917189, 0.00729199, 0.91697985, 0.55567795, 0.02847176, 0.96622044, 0.0013192953, 0.020429665, 0.38025445, 0.98874474, 0.0015083697, 0.18782331, 0.06769568, 0.9795201, 0.4724986, 0.98138225, 0.10209489, 0.9743705, 0.12055001, 0.0059380485, 0.0028188599, 0.984089, 0.78505206, 0.6223103, 0.0026377786, 0.90586627, 0.04097643, 0.0010362767, 0.9407743, 0.85380095, 0.9757554, 0.96481144, 0.0046960735, 0.96778417, 0.9910822, 0.0019791205, 0.11877827, 0.04277534, 0.0016603504, 0.9897546, 0.992574, 0.037563365, 0.91446704, 0.007273413, 0.012910242, 0.41863114, 0.0065583563, 0.95635635, 0.0038479776, 0.014415693, 0.84393793, 0.053965334, 0.015796974, 0.0018041417, 0.013942796, 0.037748966, 0.98875344, 0.6385714, 0.9045278, 0.0033389754, 0.016474338, 0.96173054, 0.014568778, 0.0017270491, 0.058151584, 0.009659249, 0.039000154, 0.0036183798, 0.9786162, 0.96367157, 0.9830414, 0.15766063, 0.0015771984, 0.5663108, 0.87956107, 0.0025685665, 0.14907809, 0.01733399, 0.97083503, 0.29150528, 0.48968166, 0.9156501, 0.7190832, 0.17111376, 0.0037621453, 0.0056836423, 0.013012924, 0.44599843, 0.002752403, 0.1827401, 0.034973733, 0.0014447819, 0.113393135, 0.9025562, 0.0026900454, 0.059330028, 0.051751446, 0.9242564, 0.0061968565, 0.0019361832, 0.014372382, 0.83490145, 0.603595, 0.2013372, 0.001760493, 0.2831637, 0.0031717827, 0.015107319, 0.9415726, 0.78428125, 0.0038832314, 0.0083989035, 0.0015901529, 0.006696574, 0.015784962, 0.002635256, 0.003869683, 0.001903118, 0.97144574, 0.97108823, 0.001718055, 0.0019485859]\n"
     ]
    }
   ],
   "source": [
    "print(true,pred)"
   ]
  },
  {
   "cell_type": "code",
   "execution_count": null,
   "id": "80013db9-220f-4d76-b23c-eda747871ea0",
   "metadata": {},
   "outputs": [],
   "source": []
  }
 ],
 "metadata": {
  "kernelspec": {
   "display_name": "Python 3 (ipykernel)",
   "language": "python",
   "name": "python3"
  },
  "language_info": {
   "codemirror_mode": {
    "name": "ipython",
    "version": 3
   },
   "file_extension": ".py",
   "mimetype": "text/x-python",
   "name": "python",
   "nbconvert_exporter": "python",
   "pygments_lexer": "ipython3",
   "version": "3.7.12"
  }
 },
 "nbformat": 4,
 "nbformat_minor": 5
}
